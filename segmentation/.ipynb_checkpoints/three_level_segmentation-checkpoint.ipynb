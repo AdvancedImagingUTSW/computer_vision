{
 "cells": [
  {
   "cell_type": "markdown",
   "id": "f8c200cd",
   "metadata": {},
   "source": [
    "# three_level_segmentation - Uses pyclesperanto kernel"
   ]
  },
  {
   "cell_type": "markdown",
   "id": "e65535a4",
   "metadata": {},
   "source": [
    "### Import Modules"
   ]
  },
  {
   "cell_type": "code",
   "execution_count": 1,
   "id": "757b6a12",
   "metadata": {},
   "outputs": [],
   "source": [
    "import os\n",
    "import time\n",
    "from multiprocessing import Pool\n",
    "\n",
    "import numpy as np\n",
    "from tifffile import imread, imsave\n",
    "\n",
    "from skimage.filters import threshold_otsu\n",
    "from skimage.morphology import dilation, erosion, remove_small_objects\n",
    "from skimage.measure import label, regionprops, marching_cubes\n",
    "from skimage.feature import peak_local_max\n",
    "from skimage import img_as_float\n",
    "\n",
    "from scipy.ndimage import gaussian_filter, binary_fill_holes\n",
    "from scipy import ndimage, signal\n",
    "\n",
    "import matplotlib.pyplot as plt\n",
    "\n",
    "if 'BINDER_SERVICE_HOST' in os.environ:\n",
    "    os.environ['DISPLAY'] = ':1.0'\n",
    "    \n",
    "import napari"
   ]
  },
  {
   "cell_type": "markdown",
   "id": "e91081ae",
   "metadata": {},
   "source": [
    "## Pad the image with its median value."
   ]
  },
  {
   "cell_type": "code",
   "execution_count": 2,
   "id": "8faac6d8",
   "metadata": {},
   "outputs": [],
   "source": [
    "def add_median_border(image_data):\n",
    "    (z_len, y_len, x_len) = image_data.shape\n",
    "    median_intensity = np.median(image_data)\n",
    "    padded_image_data = np.full((z_len+2, y_len+2, x_len+2), median_intensity)\n",
    "    padded_image_data[1:z_len+1, 1:y_len+1, 1:x_len+1]=image_data\n",
    "    return padded_image_data"
   ]
  },
  {
   "cell_type": "markdown",
   "id": "c6481e06",
   "metadata": {},
   "source": [
    "### Make a 3D Spherical Structured Element "
   ]
  },
  {
   "cell_type": "code",
   "execution_count": 3,
   "id": "60a2218a",
   "metadata": {},
   "outputs": [],
   "source": [
    "def make_sphere_3D(radius):\n",
    "    radius = int(radius)\n",
    "    sphere = np.zeros((radius, radius, radius))\n",
    "    (z_len, y_len, x_len) = sphere.shape\n",
    "    for i in range(int(z_len)):\n",
    "        for j in range(int(y_len)):\n",
    "            for k in range(int(x_len)):\n",
    "                if ((i**2+j**2+k**2)/radius**2) < 1:\n",
    "                    sphere[i,j,k]=1\n",
    "    return sphere"
   ]
  },
  {
   "cell_type": "markdown",
   "id": "3884dd4c",
   "metadata": {},
   "source": [
    "### Create an \"inside\" image\n",
    "Original algorithm fills holes plane by plane in z.\n",
    "https://github.com/DanuserLab/u-shape3D/blob/a6dcfbcce58550264dfc330c8bfb7b4720e36893/Mesh/threeLevelSegmentation3D.m"
   ]
  },
  {
   "cell_type": "code",
   "execution_count": 4,
   "id": "8db927c2",
   "metadata": {},
   "outputs": [],
   "source": [
    "def make_inside_image(padded_image_data, insideGamma,insideBlur, insideDilateRadius, insideErodeRadius):\n",
    "    image_blurred = padded_image_data**insideGamma\n",
    "    image_blurred = gaussian_filter(image_blurred, sigma=insideBlur)\n",
    "    image_threshold = threshold_otsu(image_blurred)\n",
    "\n",
    "    image_binary = image_blurred > image_threshold                   \n",
    "    image_binary = dilation(image_binary, make_sphere_3D(insideDilateRadius))\n",
    "    image_binary = ndimage.binary_fill_holes(image_binary)\n",
    "    image_binary = np.double(erosion(image_binary, make_sphere_3D(insideErodeRadius)))\n",
    "    inside_image = gaussian_filter(image_binary, sigma=1)\n",
    "    return inside_image\n",
    "\n"
   ]
  },
  {
   "cell_type": "markdown",
   "id": "67560260",
   "metadata": {},
   "source": [
    "### Create a Normalized Cell Image"
   ]
  },
  {
   "cell_type": "code",
   "execution_count": 5,
   "id": "d7e038e0",
   "metadata": {},
   "outputs": [],
   "source": [
    "def make_normalized_image(input):\n",
    "    image_threshold = threshold_otsu(padded_image_data)\n",
    "    normalized_cell = padded_image_data - image_threshold\n",
    "    normalized_cell = normalized_cell/np.std(normalized_cell)\n",
    "    return normalized_cell\n",
    "\n"
   ]
  },
  {
   "cell_type": "markdown",
   "id": "17ae776a",
   "metadata": {},
   "source": [
    "### Create a Surface Cell Image\n",
    "https://github.com/DanuserLab/u-shape3D/blob/a6dcfbcce58550264dfc330c8bfb7b4720e36893/Mesh/surfaceFilterGauss3D.m\n",
    "\n",
    "Convolution Sequence:\n",
    "\n",
    "d2z -> [d2g, g, g]\n",
    "\n",
    "d2y -> [g, d2g, g]\n",
    "\n",
    "d2x -> [g, g, d2g]\n"
   ]
  },
  {
   "cell_type": "code",
   "execution_count": 6,
   "id": "7a123b94",
   "metadata": {},
   "outputs": [],
   "source": [
    "def surface_filter_gauss_3D(input, sigma):\n",
    "    \n",
    "    # Same Sigma Value for All 3 Dimensions\n",
    "    w = np.ceil(5*sigma)\n",
    "    x = np.arange(-w, w, 1)\n",
    "    g = np.zeros(x.shape)\n",
    "\n",
    "    # Calculate 1D Gaussian\n",
    "    for i in range(int(x.size)):\n",
    "        g[i] = np.exp(-x[i]**2/(2*sigma**2))\n",
    "\n",
    "    # Calculate Second Derivative of 1D Gaussian\n",
    "    d2g = np.zeros(x.shape)\n",
    "    for i in range(int(x.size)):\n",
    "        d2g[i] = (-(x[i]**2/sigma**2 - 1) / sigma**2)*(np.exp(-x[i]**2/(2*sigma**2)))\n",
    "\n",
    "    gSum = np.sum(g);\n",
    "\n",
    "    # Gaussian Kernels\n",
    "    g = g/gSum; #1D Gaussian\n",
    "    d2g = d2g/gSum; #1D Second Derivative Kernel\n",
    "\n",
    "    d2z_image = signal.fftconvolve(input, d2g[:, None, None], mode='same')\n",
    "    d2z_image = signal.fftconvolve(d2z_image, g[None,: , None], mode='same')\n",
    "    d2z_image = signal.fftconvolve(d2z_image, g[None, None, :], mode='same')\n",
    "\n",
    "    d2y_image = signal.fftconvolve(input, d2g[None, :, None], mode='same')\n",
    "    d2y_image = signal.fftconvolve(d2y_image, g[None, None,:], mode='same')\n",
    "    d2y_image = signal.fftconvolve(d2y_image, g[:, None, None], mode='same')\n",
    "\n",
    "    d2x_image = signal.fftconvolve(input, d2g[None, None, :], mode='same')\n",
    "    d2x_image = signal.fftconvolve(d2x_image, g[:, None, None], mode='same')\n",
    "    d2x_image = signal.fftconvolve(d2x_image, g[None, :, None], mode='same')\n",
    "        \n",
    "    \n",
    "    return d2z_image, d2y_image, d2x_image"
   ]
  },
  {
   "cell_type": "markdown",
   "id": "8f07af7e",
   "metadata": {},
   "source": [
    "### Multiscale Surface Filter \n",
    "https://github.com/DanuserLab/u-shape3D/blob/a6dcfbcce58550264dfc330c8bfb7b4720e36893/Mesh/multiscaleSurfaceFilter3D.m"
   ]
  },
  {
   "cell_type": "code",
   "execution_count": 7,
   "id": "1d2edc53",
   "metadata": {},
   "outputs": [],
   "source": [
    "def multiscale_surface_filter_3D(input, scales):\n",
    "    n_scales = np.size(scales)\n",
    "    max_response = np.zeros(np.shape(input))\n",
    "    max_response_scale = np.zeros(np.shape(input))\n",
    "\n",
    "    for i in range(n_scales):\n",
    "        d2z_temp, d2y_temp, d2x_temp = surface_filter_gauss_3D(input,scales[i])\n",
    "        d2z_temp[d2z_temp<0] = 0\n",
    "        d2y_temp[d2y_temp<0] = 0\n",
    "        d2x_temp[d2x_temp<0] = 0\n",
    "\n",
    "        sMag = np.sqrt(d2z_temp**2 + d2y_temp**2 + d2x_temp**2)\n",
    "        is_better = sMag > max_response\n",
    "        max_response_scale[is_better] = i\n",
    "        max_response[is_better] = sMag[is_better]\n",
    "    \n",
    "    surface_background_mean = np.mean(max_response)\n",
    "    surface_background_std = np.std(max_response)\n",
    "    surface_threshold = surface_background_mean + (nSTDsurface*surface_background_std)\n",
    "    surface_cell = max_response - surface_threshold\n",
    "    surface_cell = max_response/np.std(max_response)\n",
    "\n",
    "    return surface_cell"
   ]
  },
  {
   "cell_type": "markdown",
   "id": "e9cb3edc",
   "metadata": {},
   "source": [
    "### Combine Three Different Segmentation Methods"
   ]
  },
  {
   "cell_type": "code",
   "execution_count": 8,
   "id": "9b77e615",
   "metadata": {},
   "outputs": [],
   "source": [
    "def combine_images(inside_image, normalized_cell, surface_cell):\n",
    "    level = 0.999\n",
    "    combined_image = np.maximum(np.maximum(inside_image, normalized_cell), surface_cell);\n",
    "    combined_image[combined_image<0] = 0\n",
    "    combined_image = combined_image>level\n",
    "    combined_image = binary_fill_holes(combined_image)\n",
    "\n",
    "    # Label Connected Components\n",
    "    labeled_image = label(combined_image)\n",
    "    label_properties = regionprops(labeled_image)\n",
    "\n",
    "    # Find Biggest Connected Component\n",
    "    label_areas = np.zeros(np.size(label_properties[:]))\n",
    "    for a in range(int(np.size(label_properties[:]))):\n",
    "        label_areas[a] = label_properties[a].area\n",
    "    max_label = np.argmax(label_areas, axis=None)\n",
    "\n",
    "    # Take only the largest connected component.\n",
    "    final_image = np.zeros(np.shape(labeled_image))\n",
    "    final_image[labeled_image==max_label+1] = 1\n",
    "    return final_image\n"
   ]
  },
  {
   "cell_type": "markdown",
   "id": "8f6e8e6b",
   "metadata": {},
   "source": [
    "### Run the Code"
   ]
  },
  {
   "cell_type": "code",
   "execution_count": 9,
   "id": "304f100d",
   "metadata": {},
   "outputs": [],
   "source": [
    "scales = [1, 2, 4]\n",
    "nSTDsurface = 2\n",
    "insideGamma = 0.7\n",
    "insideBlur = 1\n",
    "insideDilateRadius = 3\n",
    "insideErodeRadius = 4\n",
    "\n",
    "image_directory = '/archive/MIL/morrison/20201105_mitochondria_quantification/ilastik'\n",
    "image_name = 'ControlCell8_cyto.tif'\n",
    "image_path = os.path.join(image_directory, image_name)\n",
    "image_data = np.array(imread(image_path))\n",
    "\n",
    "padded_image_data = add_median_border(image_data)\n",
    "inside_image = make_inside_image(padded_image_data, insideGamma, insideBlur, insideDilateRadius, insideErodeRadius)\n",
    "normalized_cell = make_normalized_image(padded_image_data)\n",
    "surface_cell = multiscale_surface_filter_3D(padded_image_data, scales)\n",
    "final_image = combine_images(inside_image, normalized_cell, surface_cell)\n"
   ]
  },
  {
   "cell_type": "markdown",
   "id": "4130bca8",
   "metadata": {},
   "source": [
    "### View in napari as a segmented label"
   ]
  },
  {
   "cell_type": "code",
   "execution_count": 10,
   "id": "3b390bb8",
   "metadata": {},
   "outputs": [],
   "source": [
    "with napari.gui_qt():\n",
    "    viewer = napari.Viewer()  \n",
    "    viewer.add_image(padded_image_data, name='raw data')\n",
    "    viewer.add_labels(final_image, name='combo')"
   ]
  },
  {
   "cell_type": "markdown",
   "id": "9fa1e55d",
   "metadata": {},
   "source": [
    "### View in napari as a mesh"
   ]
  },
  {
   "cell_type": "code",
   "execution_count": 10,
   "id": "a3812d1b",
   "metadata": {},
   "outputs": [],
   "source": [
    "# Use marching cubes to obtain the surface mesh of these ellipsoids\n",
    "vertices, faces, normals, values = marching_cubes(final_image, 0.5)\n",
    "surface = (vertices, faces, values)\n",
    "\n",
    "with napari.gui_qt():\n",
    "    viewer = napari.Viewer()  \n",
    "    viewer.add_surface(surface, name='surface')\n"
   ]
  },
  {
   "cell_type": "markdown",
   "id": "73c593ee",
   "metadata": {},
   "source": [
    "### Laplacian of Gaussian Filtering"
   ]
  },
  {
   "cell_type": "code",
   "execution_count": 43,
   "id": "44614ee5",
   "metadata": {},
   "outputs": [],
   "source": [
    "def filter_log(input, sigma):\n",
    "    \"\"\"Same Sigma Value Assumed for All 3 Dimensions\n",
    "    Approach Described Here: https://homepages.inf.ed.ac.uk/rbf/HIPR2/log.htm\n",
    "    \"\"\"\n",
    "    \n",
    "    w = np.ceil(5*sigma)\n",
    "    x = np.arange(-w, w, 1)\n",
    "    LoG = np.zeros((x.size,x.size,x.size))\n",
    "\n",
    "    for i in range(int(x.size)):  \n",
    "        for j in range(int(x.size)):\n",
    "            for k in range(int(x.size)):\n",
    "                # Gaussian\n",
    "                g1 = x[i]**2/(2*sigma**2)\n",
    "                g2 = x[j]**2/(2*sigma**2)\n",
    "                g3 = x[k]**2/(2*sigma**2)\n",
    "                # Laplacian\n",
    "                l1 = -1/(np.pi*sigma**4)\n",
    "                l2 = 1-((x[i]**2+x[j]**2+x[k]**2)/(2*sigma**2))\n",
    "                # Combined\n",
    "                LoG[i,j,k] = -l1*l2*np.exp(-g1-g2-g3)\n",
    "\n",
    "    LoG = LoG - np.mean(LoG)\n",
    "    im_LoG_response = signal.fftconvolve(input, LoG, mode='same')\n",
    "    return im_LoG_response\n",
    "\n",
    "def spatial_log(input, sigma):\n",
    "    \"\"\"Adopted from Philippe Roudot's uTrack3D Package\n",
    "    First sigma value is for X and Y, second sigma value is for Z\n",
    "    \"\"\"\n",
    "    w = np.ceil(5*np.max(sigma))\n",
    "    x = np.arange(-w, w, 1)\n",
    "\n",
    "    gx = np.zeros(np.shape(x))\n",
    "    gz = np.zeros(np.shape(x))\n",
    "    \n",
    "    if np.size(sigma)==1:\n",
    "        sigma[0:1]=sigma\n",
    "\n",
    "    gx = np.exp(-(x**2)/(2*sigma[0]**2))\n",
    "    gz = np.exp(-(x**2)/(2*sigma[1]**2))\n",
    "\n",
    "    fg = signal.fftconvolve(input, gz[:, None, None], mode='same')\n",
    "    fg = signal.fftconvolve(fg, gx[None, :, None], mode='same')\n",
    "    fg = signal.fftconvolve(fg, gx[None, None, :], mode='same')\n",
    "\n",
    "    gx2 = (x**2)*gx\n",
    "    gz2 = (x**2)*gz\n",
    "\n",
    "    fgz2 = signal.fftconvolve(input, gz2[:, None, None], mode='same')\n",
    "    fgz2 = signal.fftconvolve(fgz2, gx[None, :, None], mode='same')\n",
    "    fgz2 = signal.fftconvolve(fgz2, gx[None, None, :], mode='same')\n",
    "\n",
    "    fgy2 = signal.fftconvolve(input, gz[:, None, None], mode='same')\n",
    "    fgy2 = signal.fftconvolve(fgy2, gx2[None, :, None], mode='same')\n",
    "    fgy2 = signal.fftconvolve(fgy2, gx[None, None, :], mode='same')\n",
    "\n",
    "    fgx2 = signal.fftconvolve(input, gz[:, None, None], mode='same')\n",
    "    fgx2 = signal.fftconvolve(fgx2, gx[None, :, None], mode='same')\n",
    "    fgx2 = signal.fftconvolve(fgx2, gx2[None, None, :], mode='same')\n",
    "\n",
    "    res = (2/sigma[0]**2+1/sigma[1]**2)*fg - ((fgx2+fgy2)/sigma[0]**4 + fgz2/sigma[1]**4);\n",
    "    return res"
   ]
  },
  {
   "cell_type": "markdown",
   "id": "6ad4bca8",
   "metadata": {},
   "source": [
    "### Find Maximum Filter Responses in 3D"
   ]
  },
  {
   "cell_type": "code",
   "execution_count": 40,
   "id": "e3c51257",
   "metadata": {},
   "outputs": [],
   "source": [
    "def locmax3d(input, wdims):\n",
    "    \"\"\" Adopted from Francois Aguet's Software\n",
    "    https://github.com/francois-a/llsmtools/blob/master/psdetect3d/locmax3d.m\n",
    "    [lm] = locmax3d(img, wdims, varargin) searches for local maxima in 3D \n",
    "    wdims = default values are 1 (Philippe's Pole detector) and 3 (Deepak's Blob Detector)\n",
    "    \"\"\"\n",
    "    input=np.array(input)\n",
    "    if np.ndim(wdims)==1:\n",
    "        wx = wdims\n",
    "        wy = wdims\n",
    "        wz = wdims\n",
    "        if np.mod(wx,2)==0 and np.mod(wy,2)==0 and np.mod(wz,0)==0:\n",
    "           raise ValueError(\"Mask dimensions must be odd integers\")\n",
    "        \n",
    "    if np.ndim(wdims)==3:\n",
    "        wx = wdims[2]\n",
    "        wy = wdims[1]\n",
    "        wz = wdims[0]\n",
    "        if np.mod(wx,2)==0 and np.mod(wy,2)==0 and np.mod(wz,0)==0:\n",
    "           raise ValueError(\"Mask dimensions must be odd integers\")\n",
    "    \n",
    "    if np.ndim(input) != 3:\n",
    "        raise ValueError(\"Expected 3D Image\")\n",
    "        \n",
    "    (nz, ny, nx) = input.shape\n",
    "    lm2D = np.zeros((nz,ny,nx))\n",
    "    for z in range(int(nz)):\n",
    "        lm2D[z,:,:] = ndimage.maximum_filter(input[z,:,:], size=wx[0]*wy[0])\n",
    "\n",
    "    lm = np.zeros((nz,ny,nx))\n",
    "    b = (wz[0]-1)/2\n",
    "    for z in range(int(nz)):\n",
    "        start_idx = np.int(np.max([0, z-b]))\n",
    "        stop_idx = np.int(np.min([nz,z+b]))\n",
    "        temp_matrix = lm2D[start_idx:stop_idx,:,:]\n",
    "        lm[z,:,:] = np.amax(temp_matrix, axis=0)\n",
    "\n",
    "    lm[lm != input] = 0\n",
    "    \n",
    "    # Clear the Borders\n",
    "    b = np.int((wz[0]+2))\n",
    "    lm[0:b,:,:] = 0\n",
    "    stop_idx = nz\n",
    "    lm[stop_idx-b:stop_idx,:,:] = 0\n",
    "    \n",
    "    b = np.int((wy[0]+2))\n",
    "    lm[:,0:b,:] = 0\n",
    "    stop_idx = ny\n",
    "    lm[:,stop_idx-b:stop_idx,:] = 0\n",
    "    \n",
    "    b = np.int((wx[0]+2))\n",
    "    lm[:,:,0:b] = 0\n",
    "    stop_idx = nx\n",
    "    lm[:,:,stop_idx-b:stop_idx] = 0\n",
    "    \n",
    "\n",
    "    return lm"
   ]
  },
  {
   "cell_type": "code",
   "execution_count": 68,
   "id": "b84391ac",
   "metadata": {},
   "outputs": [],
   "source": [
    "def filter_multiscale_LoG_ND(input,scales):\n",
    "    #sigma = [1,2,5]\n",
    "    #input = image_data\n",
    "    \n",
    "    (nz, ny, nx) = input.shape\n",
    "    im_curl_LoG_response = np.zeros((nz, ny, nx))\n",
    "    im_multiscale_LoG_response = np.zeros((nz, ny, nx))\n",
    "    im_better_mask = np.zeros((nz, ny, nx))\n",
    "    pixel_scale_map = np.zeros((nz, ny, nx))\n",
    "\n",
    "    for scale_idx in range(int(np.size(sigma))):\n",
    "        print(\"Processing Scale \" + np.str(sigma[scale_idx]))\n",
    "        im_curl_LoG_response = filter_log(input, sigma[scale_idx])\n",
    "        \n",
    "        if scale_idx == 1:\n",
    "            im_multiscale_LoG_response = im_curl_LoG_response\n",
    "            pixel_scale_map = np.ones((nz, ny, nx))\n",
    "        \n",
    "        else:\n",
    "            im_better_mask = im_curl_LoG_response < im_multiscale_LoG_response\n",
    "            im_multiscale_LoG_response[im_better_mask] = im_curl_LoG_response[im_better_mask]\n",
    "            pixel_scale_map[im_better_mask] = scale_idx\n",
    "    \n",
    "    return im_multiscale_LoG_response, pixel_scale_map\n",
    "                                          \n"
   ]
  },
  {
   "cell_type": "code",
   "execution_count": 69,
   "id": "fc9e67c1",
   "metadata": {},
   "outputs": [
    {
     "name": "stdout",
     "output_type": "stream",
     "text": [
      "Processing Scale 1\n",
      "Processing Scale 2\n",
      "Processing Scale 5\n"
     ]
    }
   ],
   "source": [
    "image_directory = '/archive/MIL/morrison/20201105_mitochondria_quantification/ilastik'\n",
    "image_name = 'ControlCell8_mito.tif'\n",
    "image_path = os.path.join(image_directory, image_name)\n",
    "image_data = np.array(imread(image_path))\n",
    "\n",
    "#im_log = spatial_log(image_data, [sigma, sigma])\n",
    "sigma = [1,2,5]\n",
    "im_log, scales = filter_multiscale_LoG_ND(image_data,sigma)\n",
    "lm = locmax3d(im_log, [3])\n",
    "\n",
    "# im_LoG_response=img_as_float(im_LoG_response)\n",
    "#image_max = ndimage.maximum_filter(im_LoG_response, size=sigma, mode='constant')\n",
    "#coordinates = peak_local_max(im_LoG_response, min_distance=2*sigma)"
   ]
  },
  {
   "cell_type": "code",
   "execution_count": 71,
   "id": "1aecc21b",
   "metadata": {},
   "outputs": [],
   "source": [
    "with napari.gui_qt():\n",
    "    viewer = napari.Viewer()  \n",
    "    #viewer.add_image(image_data, name='original data')\n",
    "    #viewer.add_image(im_log, name='log filter')\n",
    "    #viewer.add_image(lm, name='local max 2')\n",
    "    viewer.add_image(scales)\n",
    "\n",
    "    "
   ]
  },
  {
   "cell_type": "code",
   "execution_count": 177,
   "id": "8818f515",
   "metadata": {},
   "outputs": [
    {
     "name": "stdout",
     "output_type": "stream",
     "text": [
      "3\n"
     ]
    }
   ],
   "source": [
    "test=[1,2,3]\n",
    "print(test[-1])"
   ]
  },
  {
   "cell_type": "code",
   "execution_count": null,
   "id": "f0bbef80",
   "metadata": {},
   "outputs": [],
   "source": []
  }
 ],
 "metadata": {
  "kernelspec": {
   "display_name": "pyclesperanto",
   "language": "python",
   "name": "pyclesperanto"
  },
  "language_info": {
   "codemirror_mode": {
    "name": "ipython",
    "version": 3
   },
   "file_extension": ".py",
   "mimetype": "text/x-python",
   "name": "python",
   "nbconvert_exporter": "python",
   "pygments_lexer": "ipython3",
   "version": "3.7.10"
  }
 },
 "nbformat": 4,
 "nbformat_minor": 5
}
