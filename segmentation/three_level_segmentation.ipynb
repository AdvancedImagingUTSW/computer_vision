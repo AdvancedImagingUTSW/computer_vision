{
 "cells": [
  {
   "cell_type": "markdown",
   "id": "56bf388b",
   "metadata": {},
   "source": [
    "# three_level_segmentation - Uses pyclesperanto kernel"
   ]
  },
  {
   "cell_type": "markdown",
   "id": "3272d9eb",
   "metadata": {},
   "source": [
    "### Import Modules"
   ]
  },
  {
   "cell_type": "code",
   "execution_count": 1,
   "id": "e06c62a1",
   "metadata": {},
   "outputs": [],
   "source": [
    "import os\n",
    "import time\n",
    "from multiprocessing import Pool\n",
    "\n",
    "import numpy as np\n",
    "from tifffile import imread, imsave\n",
    "\n",
    "from skimage.filters import threshold_otsu\n",
    "from skimage.morphology import dilation, erosion, remove_small_objects\n",
    "from skimage.measure import label, regionprops\n",
    "\n",
    "from scipy.ndimage import gaussian_filter, binary_fill_holes\n",
    "from scipy import ndimage, signal\n",
    "\n",
    "if 'BINDER_SERVICE_HOST' in os.environ:\n",
    "    os.environ['DISPLAY'] = ':1.0'\n",
    "    \n",
    "import napari"
   ]
  },
  {
   "cell_type": "markdown",
   "id": "7b9cdacb",
   "metadata": {},
   "source": [
    "## Pad the image with its median value."
   ]
  },
  {
   "cell_type": "code",
   "execution_count": 2,
   "id": "20ba3f2e",
   "metadata": {},
   "outputs": [],
   "source": [
    "def add_median_border(image_data):\n",
    "    (z_len, y_len, x_len) = image_data.shape\n",
    "    median_intensity = np.median(image_data)\n",
    "    padded_image_data = np.full((z_len+2, y_len+2, x_len+2), median_intensity)\n",
    "    padded_image_data[1:z_len+1, 1:y_len+1, 1:x_len+1]=image_data\n",
    "    return padded_image_data"
   ]
  },
  {
   "cell_type": "markdown",
   "id": "a9053674",
   "metadata": {},
   "source": [
    "### Make a 3D Spherical Structured Element "
   ]
  },
  {
   "cell_type": "code",
   "execution_count": 3,
   "id": "dedb0046",
   "metadata": {},
   "outputs": [],
   "source": [
    "def make_sphere_3D(radius):\n",
    "    radius = int(radius)\n",
    "    sphere = np.zeros((radius, radius, radius))\n",
    "    (z_len, y_len, x_len) = sphere.shape\n",
    "    for i in range(int(z_len)):\n",
    "        for j in range(int(y_len)):\n",
    "            for k in range(int(x_len)):\n",
    "                if ((i**2+j**2+k**2)/radius**2) < 1:\n",
    "                    sphere[i,j,k]=1\n",
    "    return sphere"
   ]
  },
  {
   "cell_type": "markdown",
   "id": "74f66d22",
   "metadata": {},
   "source": [
    "### Create an \"inside\" image\n",
    "Original algorithm fills holes plane by plane in z.\n",
    "https://github.com/DanuserLab/u-shape3D/blob/a6dcfbcce58550264dfc330c8bfb7b4720e36893/Mesh/threeLevelSegmentation3D.m"
   ]
  },
  {
   "cell_type": "code",
   "execution_count": 4,
   "id": "9753001b",
   "metadata": {},
   "outputs": [],
   "source": [
    "def make_inside_image(padded_image_data, insideGamma,insideBlur, insideDilateRadius, insideErodeRadius):\n",
    "    image_blurred = padded_image_data**insideGamma\n",
    "    image_blurred = gaussian_filter(image_blurred, sigma=insideBlur)\n",
    "    image_threshold = threshold_otsu(image_blurred)\n",
    "\n",
    "    image_binary = image_blurred > image_threshold                   \n",
    "    image_binary = dilation(image_binary, make_sphere_3D(insideDilateRadius))\n",
    "    image_binary = ndimage.binary_fill_holes(image_binary)\n",
    "    image_binary = np.double(erosion(image_binary, make_sphere_3D(insideErodeRadius)))\n",
    "    inside_image = gaussian_filter(image_binary, sigma=1)\n",
    "    return inside_image\n",
    "\n"
   ]
  },
  {
   "cell_type": "markdown",
   "id": "245bcf6c",
   "metadata": {},
   "source": [
    "### Create a Normalized Cell Image"
   ]
  },
  {
   "cell_type": "code",
   "execution_count": 5,
   "id": "79d26b70",
   "metadata": {},
   "outputs": [],
   "source": [
    "def make_normalized_image(input):\n",
    "    image_threshold = threshold_otsu(padded_image_data)\n",
    "    normalized_cell = padded_image_data - image_threshold\n",
    "    normalized_cell = normalized_cell/np.std(normalized_cell)\n",
    "    return normalized_cell\n",
    "\n"
   ]
  },
  {
   "cell_type": "markdown",
   "id": "b8474176",
   "metadata": {},
   "source": [
    "### Create a Surface Cell Image\n",
    "https://github.com/DanuserLab/u-shape3D/blob/a6dcfbcce58550264dfc330c8bfb7b4720e36893/Mesh/surfaceFilterGauss3D.m\n",
    "\n",
    "Convolution Sequence:\n",
    "\n",
    "d2z -> [d2g, g, g]\n",
    "\n",
    "d2y -> [g, d2g, g]\n",
    "\n",
    "d2x -> [g, g, d2g]\n"
   ]
  },
  {
   "cell_type": "code",
   "execution_count": 6,
   "id": "c8a96e2d",
   "metadata": {},
   "outputs": [],
   "source": [
    "def surface_filter_gauss_3D(input, sigma):\n",
    "    \n",
    "    # Same Sigma Value for All 3 Dimensions\n",
    "    w = np.ceil(5*sigma)\n",
    "    x = np.arange(-w, w, 1)\n",
    "    g = np.zeros(x.shape)\n",
    "\n",
    "    # Calculate 1D Gaussian\n",
    "    for i in range(int(x.size)):\n",
    "        g[i] = np.exp(-x[i]**2/(2*sigma**2))\n",
    "\n",
    "    # Calculate Second Derivative of 1D Gaussian\n",
    "    d2g = np.zeros(x.shape)\n",
    "    for i in range(int(x.size)):\n",
    "        d2g[i] = (-(x[i]**2/sigma**2 - 1) / sigma**2)*(np.exp(-x[i]**2/(2*sigma**2)))\n",
    "\n",
    "    gSum = np.sum(g);\n",
    "\n",
    "    # Gaussian Kernels\n",
    "    g = g/gSum; #1D Gaussian\n",
    "    d2g = d2g/gSum; #1D Second Derivative Kernel\n",
    "\n",
    "    d2z_image = signal.fftconvolve(input, d2g[:, None, None], mode='same')\n",
    "    d2z_image = signal.fftconvolve(d2z_image, g[None,: , None], mode='same')\n",
    "    d2z_image = signal.fftconvolve(d2z_image, g[None, None, :], mode='same')\n",
    "   \n",
    "    d2y_image = signal.fftconvolve(input, d2g[None, :, None], mode='same')\n",
    "    d2y_image = signal.fftconvolve(d2y_image, g[None, None,:], mode='same')\n",
    "    d2y_image = signal.fftconvolve(d2y_image, g[:, None, None], mode='same')\n",
    "    \n",
    "    d2x_image = signal.fftconvolve(input, d2g[None, None, :], mode='same')\n",
    "    d2x_image = signal.fftconvolve(d2x_image, g[:, None, None], mode='same')\n",
    "    d2x_image = signal.fftconvolve(d2x_image, g[None, :, None], mode='same')\n",
    "    \n",
    "    return d2z_image, d2y_image, d2x_image"
   ]
  },
  {
   "cell_type": "markdown",
   "id": "89df4453",
   "metadata": {},
   "source": [
    "### Multiscale Surface Filter \n",
    "https://github.com/DanuserLab/u-shape3D/blob/a6dcfbcce58550264dfc330c8bfb7b4720e36893/Mesh/multiscaleSurfaceFilter3D.m"
   ]
  },
  {
   "cell_type": "code",
   "execution_count": 7,
   "id": "53af5e5e",
   "metadata": {},
   "outputs": [],
   "source": [
    "def multiscale_surface_filter_3D(input, scales):\n",
    "    n_scales = np.size(scales)\n",
    "    max_response = np.zeros(np.shape(input))\n",
    "    max_response_scale = np.zeros(np.shape(input))\n",
    "\n",
    "    for i in range(n_scales):\n",
    "        d2z_temp, d2y_temp, d2x_temp = surface_filter_gauss_3D(input,scales[i])\n",
    "        d2z_temp[d2z_temp<0] = 0\n",
    "        d2y_temp[d2y_temp<0] = 0\n",
    "        d2x_temp[d2x_temp<0] = 0\n",
    "\n",
    "        sMag = np.sqrt(d2z_temp**2 + d2y_temp**2 + d2x_temp**2)\n",
    "        is_better = sMag > max_response\n",
    "        max_response_scale[is_better] = i\n",
    "        max_response[is_better] = sMag[is_better]\n",
    "    \n",
    "    surface_background_mean = np.mean(max_response)\n",
    "    surface_background_std = np.std(max_response)\n",
    "    surface_threshold = surface_background_mean + (nSTDsurface*surface_background_std)\n",
    "    surface_cell = max_response - surface_threshold\n",
    "    surface_cell = max_response/np.std(max_response)\n",
    "\n",
    "    return surface_cell"
   ]
  },
  {
   "cell_type": "markdown",
   "id": "d4cd1e26",
   "metadata": {},
   "source": [
    "### Combine Three Different Segmentation Methods"
   ]
  },
  {
   "cell_type": "code",
   "execution_count": 8,
   "id": "9cb038bc",
   "metadata": {},
   "outputs": [],
   "source": [
    "def combine_images(inside_image, normalized_cell, surface_cell):\n",
    "    level = 0.999\n",
    "    combined_image = np.maximum(np.maximum(inside_image, normalized_cell), surface_cell);\n",
    "    combined_image[combined_image<0] = 0\n",
    "    combined_image = combined_image>level\n",
    "    combined_image = binary_fill_holes(combined_image)\n",
    "\n",
    "    # Label Connected Components\n",
    "    labeled_image = label(combined_image)\n",
    "    label_properties = regionprops(labeled_image)\n",
    "\n",
    "    # Find Biggest Connected Component\n",
    "    label_areas = np.zeros(np.size(label_properties[:]))\n",
    "    for a in range(int(np.size(label_properties[:]))):\n",
    "        label_areas[a] = label_properties[a].area\n",
    "    max_label = np.argmax(label_areas, axis=None)\n",
    "\n",
    "    # Take only the largest connected component.\n",
    "    final_image = np.zeros(np.shape(labeled_image))\n",
    "    final_image[labeled_image==max_label+1] = 1\n",
    "    return final_image\n"
   ]
  },
  {
   "cell_type": "markdown",
   "id": "b5b500be",
   "metadata": {},
   "source": [
    "### Run the Code"
   ]
  },
  {
   "cell_type": "code",
   "execution_count": 9,
   "id": "33128c79",
   "metadata": {},
   "outputs": [
    {
     "name": "stdout",
     "output_type": "stream",
     "text": [
      "The Image Dimensions Are: (169, 321, 269)\n",
      "17.14746245648712\n"
     ]
    }
   ],
   "source": [
    "start_time = time.perf_counter()\n",
    "scales = [1, 2, 4]\n",
    "nSTDsurface = 2\n",
    "insideGamma = 0.7\n",
    "insideBlur = 1\n",
    "insideDilateRadius = 3\n",
    "insideErodeRadius = 4\n",
    "\n",
    "image_directory = '/archive/MIL/morrison/20201105_mitochondria_quantification/ilastik'\n",
    "image_name = 'ControlCell8_cyto.tif'\n",
    "image_path = os.path.join(image_directory, image_name)\n",
    "image_data = np.array(imread(image_path))\n",
    "print('The Image Dimensions Are: ' + str(image_data.shape))\n",
    "\n",
    "padded_image_data = add_median_border(image_data)\n",
    "inside_image = make_inside_image(padded_image_data, insideGamma, insideBlur, insideDilateRadius, insideErodeRadius)\n",
    "normalized_cell = make_normalized_image(padded_image_data)\n",
    "surface_cell = multiscale_surface_filter_3D(padded_image_data, scales)\n",
    "final_image = combine_images(inside_image, normalized_cell, surface_cell)\n",
    "end_time = time.perf_counter()\n",
    "print(end_time - start_time)"
   ]
  },
  {
   "cell_type": "code",
   "execution_count": 10,
   "id": "d153a6b7",
   "metadata": {},
   "outputs": [],
   "source": [
    "with napari.gui_qt():\n",
    "    viewer = napari.Viewer()  \n",
    "    viewer.add_image(padded_image_data, name='raw data')\n",
    "    viewer.add_labels(final_image, name='combo')\n"
   ]
  },
  {
   "cell_type": "code",
   "execution_count": null,
   "id": "d6fbc596",
   "metadata": {},
   "outputs": [],
   "source": []
  }
 ],
 "metadata": {
  "kernelspec": {
   "display_name": "pyclesperanto",
   "language": "python",
   "name": "pyclesperanto"
  },
  "language_info": {
   "codemirror_mode": {
    "name": "ipython",
    "version": 3
   },
   "file_extension": ".py",
   "mimetype": "text/x-python",
   "name": "python",
   "nbconvert_exporter": "python",
   "pygments_lexer": "ipython3",
   "version": "3.7.10"
  }
 },
 "nbformat": 4,
 "nbformat_minor": 5
}
