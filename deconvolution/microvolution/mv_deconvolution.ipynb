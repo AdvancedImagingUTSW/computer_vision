{
 "cells": [
  {
   "cell_type": "code",
   "execution_count": 1,
   "metadata": {},
   "outputs": [
    {
     "name": "stdout",
     "output_type": "stream",
     "text": [
      "Modules Imported\n"
     ]
    }
   ],
   "source": [
    "from lib.python36.sitepackages import microvolution_py as mv\n",
    "import numpy as np\n",
    "import tifffile\n",
    "import sys\n",
    "print(\"Modules Imported\")"
   ]
  },
  {
   "cell_type": "code",
   "execution_count": 2,
   "metadata": {},
   "outputs": [
    {
     "name": "stdout",
     "output_type": "stream",
     "text": [
      "False\n",
      "License Imported\n"
     ]
    }
   ],
   "source": [
    "license_path = '/home2/kdean/Desktop/GIT/Deconvolution/microvolution_py-2020.04-py3.6_numpy1.18_cuda10.1/utsw-floating-test.lic'\n",
    "lic = mv.Licensing.GetInstance()\n",
    "print(lic.HaveValidLicense(\"deconvolution\"))\n",
    "print(\"License Imported\")"
   ]
  },
  {
   "cell_type": "code",
   "execution_count": null,
   "metadata": {},
   "outputs": [],
   "source": [
    "f = tifffile.imread(\"/archive/MIL/friedman/yeast/Mic60GFP-HDEL646/200618/Cell1/1_CH00_000000.tif\")\n",
    "print(f.shape)\n",
    "\n",
    "params = mv.DeconParameters()\n",
    "params.nx = f.shape[2]\n",
    "params.ny = f.shape[1]\n",
    "params.nz = f.shape[0]\n",
    "params.generatePsf = True\n",
    "params.NA = 1.49\n",
    "params.RI = 1.515\n",
    "params.ns = 1.33\n",
    "params.psfModel = mv.PSFModel_Vectorial\n",
    "params.psfType = mv.PSFType_Confocal\n",
    "params.wavelength = 525.0\n",
    "params.dr = 160.0\n",
    "params.dz = 200.0\n",
    "params.iterations = 20\n",
    "params.pinhole = 350\n",
    "params.background = 2800\n",
    "params.scaling = mv.Scaling_U16\n",
    "\n",
    "try:\n",
    "  launcher = mv.DeconvolutionLauncher()\n",
    "  #launcher.SetDevice(0)\n",
    "  f = f.astype(np.float32)\n",
    "  \n",
    "  launcher.SetParameters(params)\n",
    "  for z in range(params.nz):\n",
    "    launcher.SetImageSlice(z, f[z,:])\n",
    "  launcher.Run()\n",
    "  for z in range(params.nz):\n",
    "    launcher.RetrieveImageSlice(z, f[z,:])\n",
    "  tifffile.imsave(\"test.tif\", f)\n",
    "except:\n",
    "  err = sys.exc_info()\n",
    "  print(\"Unexpected error:\", err[0])\n",
    "  print(err[1])\n",
    "  print(err[2])"
   ]
  }
 ],
 "metadata": {
  "kernelspec": {
   "display_name": "Python 3",
   "language": "python",
   "name": "python3"
  },
  "language_info": {
   "codemirror_mode": {
    "name": "ipython",
    "version": 3
   },
   "file_extension": ".py",
   "mimetype": "text/x-python",
   "name": "python",
   "nbconvert_exporter": "python",
   "pygments_lexer": "ipython3",
   "version": "3.6.10"
  }
 },
 "nbformat": 4,
 "nbformat_minor": 4
}
