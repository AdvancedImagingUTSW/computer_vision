{
 "cells": [
  {
   "cell_type": "markdown",
   "metadata": {},
   "source": [
    "# Manual Annotation\n",
    "\n",
    "Annotation to provide ground truth data for a StarDist CNN nuclei detection. Goal is to paint labels to provide a pixel-wise annotation of an image with the **Labels** layer"
   ]
  },
  {
   "cell_type": "markdown",
   "metadata": {},
   "source": [
    "### Import Libraries"
   ]
  },
  {
   "cell_type": "code",
   "execution_count": 1,
   "metadata": {},
   "outputs": [],
   "source": [
    "# Standard Library Imports\n",
    "import os\n",
    "\n",
    "# Third Party Imports\n",
    "import napari\n",
    "from napari.utils import nbscreenshot\n",
    "import numpy as np\n",
    "from tifffile import imread\n",
    "\n",
    "# Local Imports\n",
    "\n",
    "if 'BINDER_SERVICE_HOST' in os.environ:\n",
    "    os.environ['DISPLAY'] = ':1.0'\n"
   ]
  },
  {
   "cell_type": "markdown",
   "metadata": {},
   "source": [
    "### Load QT Graphical Interface"
   ]
  },
  {
   "cell_type": "code",
   "execution_count": 2,
   "metadata": {},
   "outputs": [
    {
     "name": "stderr",
     "output_type": "stream",
     "text": [
      "WARNING: Could not load the Qt platform plugin \"xcb\" in \"\" even though it was found.\n"
     ]
    }
   ],
   "source": [
    "\n",
    "gui qt"
   ]
  },
  {
   "cell_type": "markdown",
   "metadata": {},
   "source": [
    "### Load Data"
   ]
  },
  {
   "cell_type": "code",
   "execution_count": 31,
   "metadata": {},
   "outputs": [
    {
     "name": "stdout",
     "output_type": "stream",
     "text": [
      "(3, 588, 1024, 1024)\n"
     ]
    }
   ],
   "source": [
    "data_location = '/archive/MIL/marciano/HaoLiu/glomerulus/p47_Gata3_ERg/200720/Cell1'\n",
    "image_name = '1_CH00_000302.tif'\n",
    "\n",
    "imdata = imread(os.path.join(data_location, image_name))\n",
    "imdata = np.array(imdata)\n",
    "\n",
    "print(imdata.shape)"
   ]
  },
  {
   "cell_type": "markdown",
   "metadata": {},
   "source": [
    "### Open in Napari"
   ]
  },
  {
   "cell_type": "code",
   "execution_count": 32,
   "metadata": {},
   "outputs": [],
   "source": [
    "# CH00 = 0.  CH01 = 1.  CH02 = 2.\n",
    "channel_number = 0;\n",
    "\n",
    "voxel_anisotropy = [1, 1, 1]\n",
    "\n",
    "viewer = napari.Viewer()\n",
    "viewer.add_image(data=imdata[0,:,:,:], scale=voxel_anisotropy)\n",
    "viewer.add_points(name='nuclei', face_color='red', n_dimensional=True);"
   ]
  },
  {
   "cell_type": "code",
   "execution_count": 36,
   "metadata": {},
   "outputs": [
    {
     "name": "stdout",
     "output_type": "stream",
     "text": [
      "Number of Nuclei Annotated: 148\n"
     ]
    }
   ],
   "source": [
    "# Save out the nuclei labels as a CSV file\n",
    "export_name = 'labels_' + image_name;\n",
    "export_name = export_name[0:(len(export_name)-3)]+'csv';\n",
    "export_path = os.path.join(data_location, export_name)\n",
    "\n",
    "print('Number of Nuclei Annotated:', len(viewer.layers['nuclei'].data))\n",
    "viewer.layers['nuclei'].save(export_path, plugin='builtins');\n"
   ]
  },
  {
   "cell_type": "code",
   "execution_count": null,
   "metadata": {},
   "outputs": [],
   "source": []
  }
 ],
 "metadata": {
  "kernelspec": {
   "display_name": "Python 3",
   "language": "python",
   "name": "python3"
  },
  "language_info": {
   "codemirror_mode": {
    "name": "ipython",
    "version": 3
   },
   "file_extension": ".py",
   "mimetype": "text/x-python",
   "name": "python",
   "nbconvert_exporter": "python",
   "pygments_lexer": "ipython3",
   "version": "3.7.9"
  }
 },
 "nbformat": 4,
 "nbformat_minor": 4
}
