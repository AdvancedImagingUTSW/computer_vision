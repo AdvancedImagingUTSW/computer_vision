{
 "cells": [
  {
   "cell_type": "code",
   "execution_count": 1,
   "metadata": {},
   "outputs": [],
   "source": [
    "# Standard Library Imports\n",
    "import os\n",
    "\n",
    "# Third Party Imports\n",
    "import napari\n",
    "from napari.utils import nbscreenshot\n",
    "import numpy as np\n",
    "from tifffile import imread\n",
    "\n",
    "# Local Imports\n",
    "\n",
    "if 'BINDER_SERVICE_HOST' in os.environ:\n",
    "    os.environ['DISPLAY'] = ':1.0'"
   ]
  },
  {
   "cell_type": "code",
   "execution_count": 2,
   "metadata": {},
   "outputs": [
    {
     "name": "stderr",
     "output_type": "stream",
     "text": [
      "WARNING: Could not load the Qt platform plugin \"xcb\" in \"\" even though it was found.\n"
     ]
    }
   ],
   "source": [
    "\n",
    "gui qt"
   ]
  },
  {
   "cell_type": "code",
   "execution_count": null,
   "metadata": {},
   "outputs": [],
   "source": []
  }
 ],
 "metadata": {
  "kernelspec": {
   "display_name": "Python 3",
   "language": "python",
   "name": "python3"
  },
  "language_info": {
   "codemirror_mode": {
    "name": "ipython",
    "version": 3
   },
   "file_extension": ".py",
   "mimetype": "text/x-python",
   "name": "python",
   "nbconvert_exporter": "python",
   "pygments_lexer": "ipython3",
   "version": "3.7.9"
  }
 },
 "nbformat": 4,
 "nbformat_minor": 4
}
