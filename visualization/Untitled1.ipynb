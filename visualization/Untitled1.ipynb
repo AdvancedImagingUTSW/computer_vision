{
 "cells": [
  {
   "cell_type": "code",
   "execution_count": 4,
   "metadata": {},
   "outputs": [],
   "source": [
    "import time\n",
    "\n",
    "import numpy as np\n",
    "import matplotlib.pyplot as plt\n",
    "\n",
    "run_index = 10\n",
    "\n",
    "X_val = np.load('/archive/MIL/karbasi/stardist/runs/'+str(run_index)+'/X_val.npy')\n",
    "Y_val = np.load('/archive/MIL/karbasi/stardist/runs/'+str(run_index)+'/Y_val.npy')\n",
    "Y_val_pred = np.load('/archive/MIL/karbasi/stardist/runs/'+str(run_index)+'/Y_val_pred.npy')\n",
    "\n",
    "for i in range(0,257):\n",
    "    \n",
    "    img = X_val[1][i,:,:]\n",
    "    lbl = Y_val[1][i, :, :]\n",
    "    val = Y_val_pred[1][i,:,:]\n",
    "    if np.mean(val) or np.mean(lbl) > 0:\n",
    "        fig, (ai,aj,ak) = plt.subplots(1,3, figsize=(12,5))\n",
    "        print('Display slice: ', i)\n",
    "        ai.imshow(img, cmap='gray')\n",
    "        ai.title.set_text('X_Val')\n",
    "        aj.imshow(lbl, cmap='gray')\n",
    "        aj.title.set_text('Y_Val')\n",
    "        ak.imshow(val, cmap='gray')\n",
    "        ak.title.set_text('Y_Pred')\n",
    "        plt.show()\n",
    "        plt.close()"
   ]
  },
  {
   "cell_type": "code",
   "execution_count": 14,
   "metadata": {},
   "outputs": [],
   "source": [
    "%gui qt5\n",
    "# Note that this Magics command needs to be run in a cell\n",
    "# before any of the Napari objects are instantiated to\n",
    "# ensure it has time to finish executing before they are\n",
    "# called\n",
    "\n",
    "from skimage import data\n",
    "import napari"
   ]
  },
  {
   "cell_type": "code",
   "execution_count": 16,
   "metadata": {},
   "outputs": [
    {
     "ename": "AttributeError",
     "evalue": "module 'napari' has no attribute 'view_image'",
     "output_type": "error",
     "traceback": [
      "\u001b[0;31m---------------------------------------------------------------------------\u001b[0m",
      "\u001b[0;31mAttributeError\u001b[0m                            Traceback (most recent call last)",
      "\u001b[0;32m<ipython-input-16-a26363e90914>\u001b[0m in \u001b[0;36m<module>\u001b[0;34m()\u001b[0m\n\u001b[0;32m----> 1\u001b[0;31m \u001b[0mviewer\u001b[0m \u001b[0;34m=\u001b[0m \u001b[0mnapari\u001b[0m\u001b[0;34m.\u001b[0m\u001b[0mview_image\u001b[0m\u001b[0;34m(\u001b[0m\u001b[0;34m)\u001b[0m\u001b[0;34m\u001b[0m\u001b[0m\n\u001b[0m",
      "\u001b[0;31mAttributeError\u001b[0m: module 'napari' has no attribute 'view_image'"
     ]
    }
   ],
   "source": [
    "viewer = napari.view_image()"
   ]
  },
  {
   "cell_type": "code",
   "execution_count": null,
   "metadata": {},
   "outputs": [],
   "source": []
  }
 ],
 "metadata": {
  "kernelspec": {
   "display_name": "Python 3",
   "language": "python",
   "name": "python3"
  },
  "language_info": {
   "codemirror_mode": {
    "name": "ipython",
    "version": 3
   },
   "file_extension": ".py",
   "mimetype": "text/x-python",
   "name": "python",
   "nbconvert_exporter": "python",
   "pygments_lexer": "ipython3",
   "version": "3.6.4"
  }
 },
 "nbformat": 4,
 "nbformat_minor": 2
}
