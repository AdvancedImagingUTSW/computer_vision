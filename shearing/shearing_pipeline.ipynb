{
 "cells": [
  {
   "cell_type": "code",
   "execution_count": 3,
   "metadata": {},
   "outputs": [
    {
     "name": "stdout",
     "output_type": "stream",
     "text": [
      "(50, 51, 3, 256, 1600)\n"
     ]
    }
   ],
   "source": [
    "import os\n",
    "from tifffile import imread\n",
    "import numpy as np\n",
    "from scipy.ndimage.interpolation import rotate as rotate_image\n",
    "from tifffile import imsave\n",
    "from numba import jit\n",
    "from tqdm.notebook import tqdm as tqdm\n",
    "\n",
    "root_path = '/archive/MIL/friedman/Yeast/mic60GFP-MitoDsRED-MDM34JF646/200610/Cell1_decon'\n",
    "data_path = os.path.join(root_path, '1_CH00_000000.tif')\n",
    "test = imread(data_path)\n",
    "\n",
    "test = np.array(test);\n",
    "shape = test.shape\n",
    "print(shape)\n",
    "# t, z, c, x, y"
   ]
  },
  {
   "cell_type": "code",
   "execution_count": 2,
   "metadata": {},
   "outputs": [],
   "source": [
    "def deskew(inArray, angle, dz, xypixelsize):\n",
    "    (z_len, y_len, x_len) = inArray.shape\n",
    "    Trans = np.cos(angle * np.pi / 180) * dz / xypixelsize\n",
    "    widenBy = np.uint16(np.ceil(z_len * np.cos(angle * np.pi / 180) * dz / xypixelsize))\n",
    "\n",
    "    inArrayWiden = np.zeros((z_len, y_len, x_len + widenBy))\n",
    "    inArrayWiden[:z_len, :y_len, :x_len] = inArray\n",
    "    output = np.zeros((z_len, y_len, x_len + widenBy))\n",
    "    xF, yF = np.meshgrid(np.arange(x_len + widenBy), np.arange(y_len))\n",
    "\n",
    "    for k in range(z_len):\n",
    "        inSlice = inArrayWiden[k, :, :]\n",
    "        inSliceFFT = np.fft.fftshift(np.fft.fft2(inSlice))\n",
    "        inSliceFFTTrans = inSliceFFT * np.exp(-1j * 2 * np.pi * xF * Trans * k / (x_len + widenBy))\n",
    "        output_temp = np.abs(np.fft.ifft2(np.fft.ifftshift(inSliceFFTTrans)))\n",
    "        output[k, :, :] = output_temp\n",
    "\n",
    "    output[output < 0] = 0\n",
    "    return np.uint16(output)  # return uint16 data to save as tiff\n"
   ]
  },
  {
   "cell_type": "code",
   "execution_count": 5,
   "metadata": {},
   "outputs": [
    {
     "data": {
      "application/vnd.jupyter.widget-view+json": {
       "model_id": "10fbe3b6a7a9480d90db67eddf5efaca",
       "version_major": 2,
       "version_minor": 0
      },
      "text/plain": [
       "HBox(children=(FloatProgress(value=0.0, max=5.0), HTML(value='')))"
      ]
     },
     "metadata": {},
     "output_type": "display_data"
    },
    {
     "name": "stdout",
     "output_type": "stream",
     "text": [
      "/archive/MIL/friedman/Yeast/mic60GFP-MitoDsRED-MDM34JF646/200610/Cell1_decon\n",
      "(50, 51, 3, 256, 1600)\n"
     ]
    },
    {
     "data": {
      "application/vnd.jupyter.widget-view+json": {
       "model_id": "86aad559bf324848902ec8ce365ecfd3",
       "version_major": 2,
       "version_minor": 0
      },
      "text/plain": [
       "HBox(children=(FloatProgress(value=0.0, max=3.0), HTML(value='')))"
      ]
     },
     "metadata": {},
     "output_type": "display_data"
    },
    {
     "data": {
      "application/vnd.jupyter.widget-view+json": {
       "model_id": "bad7989203fc4a5f805290f3d5844134",
       "version_major": 2,
       "version_minor": 0
      },
      "text/plain": [
       "HBox(children=(FloatProgress(value=0.0, max=50.0), HTML(value='')))"
      ]
     },
     "metadata": {},
     "output_type": "display_data"
    },
    {
     "name": "stdout",
     "output_type": "stream",
     "text": [
      "\n"
     ]
    },
    {
     "data": {
      "application/vnd.jupyter.widget-view+json": {
       "model_id": "233edc226470421ba8164a0a091b4780",
       "version_major": 2,
       "version_minor": 0
      },
      "text/plain": [
       "HBox(children=(FloatProgress(value=0.0, max=50.0), HTML(value='')))"
      ]
     },
     "metadata": {},
     "output_type": "display_data"
    },
    {
     "name": "stdout",
     "output_type": "stream",
     "text": [
      "\n"
     ]
    },
    {
     "data": {
      "application/vnd.jupyter.widget-view+json": {
       "model_id": "ee707ea2321846168d2418f25db36afa",
       "version_major": 2,
       "version_minor": 0
      },
      "text/plain": [
       "HBox(children=(FloatProgress(value=0.0, max=50.0), HTML(value='')))"
      ]
     },
     "metadata": {},
     "output_type": "display_data"
    },
    {
     "name": "stdout",
     "output_type": "stream",
     "text": [
      "\n",
      "\n",
      "/archive/MIL/friedman/Yeast/mic60GFP-MitoDsRED-MDM34JF646/200610/Cell2_decon\n",
      "(50, 51, 3, 256, 1600)\n"
     ]
    },
    {
     "data": {
      "application/vnd.jupyter.widget-view+json": {
       "model_id": "292767bf68a74a0f9e7da074150f8860",
       "version_major": 2,
       "version_minor": 0
      },
      "text/plain": [
       "HBox(children=(FloatProgress(value=0.0, max=3.0), HTML(value='')))"
      ]
     },
     "metadata": {},
     "output_type": "display_data"
    },
    {
     "data": {
      "application/vnd.jupyter.widget-view+json": {
       "model_id": "0b46a215a6d2436396adccb35da8550b",
       "version_major": 2,
       "version_minor": 0
      },
      "text/plain": [
       "HBox(children=(FloatProgress(value=0.0, max=50.0), HTML(value='')))"
      ]
     },
     "metadata": {},
     "output_type": "display_data"
    },
    {
     "name": "stdout",
     "output_type": "stream",
     "text": [
      "\n"
     ]
    },
    {
     "data": {
      "application/vnd.jupyter.widget-view+json": {
       "model_id": "b61b45934aae4950b000090bf3f908f1",
       "version_major": 2,
       "version_minor": 0
      },
      "text/plain": [
       "HBox(children=(FloatProgress(value=0.0, max=50.0), HTML(value='')))"
      ]
     },
     "metadata": {},
     "output_type": "display_data"
    },
    {
     "name": "stdout",
     "output_type": "stream",
     "text": [
      "\n"
     ]
    },
    {
     "data": {
      "application/vnd.jupyter.widget-view+json": {
       "model_id": "b85fb071a1364f06b0f8fd76f68e3446",
       "version_major": 2,
       "version_minor": 0
      },
      "text/plain": [
       "HBox(children=(FloatProgress(value=0.0, max=50.0), HTML(value='')))"
      ]
     },
     "metadata": {},
     "output_type": "display_data"
    },
    {
     "name": "stdout",
     "output_type": "stream",
     "text": [
      "\n",
      "\n",
      "/archive/MIL/friedman/Yeast/mic60GFP-MitoDsRED-MDM34JF646/200610/Cell3_decon\n",
      "(50, 51, 3, 256, 1600)\n"
     ]
    },
    {
     "data": {
      "application/vnd.jupyter.widget-view+json": {
       "model_id": "fc2692d08f3c4fceab805eaf9ea3a091",
       "version_major": 2,
       "version_minor": 0
      },
      "text/plain": [
       "HBox(children=(FloatProgress(value=0.0, max=3.0), HTML(value='')))"
      ]
     },
     "metadata": {},
     "output_type": "display_data"
    },
    {
     "data": {
      "application/vnd.jupyter.widget-view+json": {
       "model_id": "6cc8006adf6940ff91f709cff626a615",
       "version_major": 2,
       "version_minor": 0
      },
      "text/plain": [
       "HBox(children=(FloatProgress(value=0.0, max=50.0), HTML(value='')))"
      ]
     },
     "metadata": {},
     "output_type": "display_data"
    },
    {
     "name": "stdout",
     "output_type": "stream",
     "text": [
      "\n"
     ]
    },
    {
     "data": {
      "application/vnd.jupyter.widget-view+json": {
       "model_id": "31d26a51a54d4c0290533e58dd52ba2b",
       "version_major": 2,
       "version_minor": 0
      },
      "text/plain": [
       "HBox(children=(FloatProgress(value=0.0, max=50.0), HTML(value='')))"
      ]
     },
     "metadata": {},
     "output_type": "display_data"
    },
    {
     "name": "stdout",
     "output_type": "stream",
     "text": [
      "\n"
     ]
    },
    {
     "data": {
      "application/vnd.jupyter.widget-view+json": {
       "model_id": "e2d48ad30a2146ef8605b5a1bfd8843f",
       "version_major": 2,
       "version_minor": 0
      },
      "text/plain": [
       "HBox(children=(FloatProgress(value=0.0, max=50.0), HTML(value='')))"
      ]
     },
     "metadata": {},
     "output_type": "display_data"
    },
    {
     "name": "stdout",
     "output_type": "stream",
     "text": [
      "\n",
      "\n",
      "/archive/MIL/friedman/Yeast/mic60GFP-MitoDsRED-MDM34JF646/200610/Cell4_decon\n",
      "(50, 51, 3, 256, 1600)\n"
     ]
    },
    {
     "data": {
      "application/vnd.jupyter.widget-view+json": {
       "model_id": "b55165191abd40769a8a7cbe75bc0fe5",
       "version_major": 2,
       "version_minor": 0
      },
      "text/plain": [
       "HBox(children=(FloatProgress(value=0.0, max=3.0), HTML(value='')))"
      ]
     },
     "metadata": {},
     "output_type": "display_data"
    },
    {
     "data": {
      "application/vnd.jupyter.widget-view+json": {
       "model_id": "bc689a7c411d4e25a07e87dc4169cc6b",
       "version_major": 2,
       "version_minor": 0
      },
      "text/plain": [
       "HBox(children=(FloatProgress(value=0.0, max=50.0), HTML(value='')))"
      ]
     },
     "metadata": {},
     "output_type": "display_data"
    },
    {
     "name": "stdout",
     "output_type": "stream",
     "text": [
      "\n"
     ]
    },
    {
     "data": {
      "application/vnd.jupyter.widget-view+json": {
       "model_id": "c217771f04054ed1ac83ffe2f4147516",
       "version_major": 2,
       "version_minor": 0
      },
      "text/plain": [
       "HBox(children=(FloatProgress(value=0.0, max=50.0), HTML(value='')))"
      ]
     },
     "metadata": {},
     "output_type": "display_data"
    },
    {
     "name": "stdout",
     "output_type": "stream",
     "text": [
      "\n"
     ]
    },
    {
     "data": {
      "application/vnd.jupyter.widget-view+json": {
       "model_id": "d13f6d984fea48e4bf8e9d8734e1b38a",
       "version_major": 2,
       "version_minor": 0
      },
      "text/plain": [
       "HBox(children=(FloatProgress(value=0.0, max=50.0), HTML(value='')))"
      ]
     },
     "metadata": {},
     "output_type": "display_data"
    },
    {
     "name": "stdout",
     "output_type": "stream",
     "text": [
      "\n",
      "\n",
      "/archive/MIL/friedman/Yeast/mic60GFP-MitoDsRED-MDM34JF646/200610/Cell5_decon\n",
      "(50, 51, 3, 256, 1600)\n"
     ]
    },
    {
     "data": {
      "application/vnd.jupyter.widget-view+json": {
       "model_id": "2def0c35f0614dc593748a902c0bbca3",
       "version_major": 2,
       "version_minor": 0
      },
      "text/plain": [
       "HBox(children=(FloatProgress(value=0.0, max=3.0), HTML(value='')))"
      ]
     },
     "metadata": {},
     "output_type": "display_data"
    },
    {
     "data": {
      "application/vnd.jupyter.widget-view+json": {
       "model_id": "97d81a7967e14a12a861441d1c906c4c",
       "version_major": 2,
       "version_minor": 0
      },
      "text/plain": [
       "HBox(children=(FloatProgress(value=0.0, max=50.0), HTML(value='')))"
      ]
     },
     "metadata": {},
     "output_type": "display_data"
    },
    {
     "name": "stdout",
     "output_type": "stream",
     "text": [
      "\n"
     ]
    },
    {
     "data": {
      "application/vnd.jupyter.widget-view+json": {
       "model_id": "d0654543e9a04406be93aac8b57ec383",
       "version_major": 2,
       "version_minor": 0
      },
      "text/plain": [
       "HBox(children=(FloatProgress(value=0.0, max=50.0), HTML(value='')))"
      ]
     },
     "metadata": {},
     "output_type": "display_data"
    },
    {
     "name": "stdout",
     "output_type": "stream",
     "text": [
      "\n"
     ]
    },
    {
     "data": {
      "application/vnd.jupyter.widget-view+json": {
       "model_id": "e0ae5fabb4a34717ba9f45f02916cb23",
       "version_major": 2,
       "version_minor": 0
      },
      "text/plain": [
       "HBox(children=(FloatProgress(value=0.0, max=50.0), HTML(value='')))"
      ]
     },
     "metadata": {},
     "output_type": "display_data"
    },
    {
     "name": "stdout",
     "output_type": "stream",
     "text": [
      "\n",
      "\n",
      "\n"
     ]
    }
   ],
   "source": [
    "counter = 1\n",
    "for k in tqdm(range(5)):\n",
    "    root_path = '/archive/MIL/friedman/Yeast/mic60GFP-MitoDsRED-MDM34JF646/200610/Cell' + str(counter) + '_decon'\n",
    "    print(root_path)\n",
    "    counter = counter + 1\n",
    "    \n",
    "    export_path = root_path + \"_sheared\"\n",
    "    if os.path.isdir(export_path):\n",
    "        print(\"Folder Already Exists\")\n",
    "    else:\n",
    "        os.mkdir(export_path)\n",
    "\n",
    "    data_path = os.path.join(root_path, '1_CH00_000000.tif')\n",
    "    test = imread(data_path)\n",
    "\n",
    "    test = np.array(test);\n",
    "    shape = test.shape\n",
    "    print(shape)\n",
    "\n",
    "# t, z, c, x, y\n",
    "    for i in tqdm(range(shape[2])):\n",
    "        for j in tqdm(range(shape[0])):\n",
    "            inArray = test[j,:,i,:,:]\n",
    "            inArray = inArray - np.amin(inArray)\n",
    "            inArray = rotate_image(inArray, 90, axes=(1,2))\n",
    "            test_deskewed = deskew(inArray, 26, 400, 115)\n",
    "            export_name = os.path.join(export_path, '1_CH0' + str(i) + '_' + str((\"{:06d}\".format(j))) + '.tif')\n",
    "            imsave(export_name, test_deskewed)"
   ]
  },
  {
   "cell_type": "code",
   "execution_count": 10,
   "metadata": {},
   "outputs": [
    {
     "name": "stdout",
     "output_type": "stream",
     "text": [
      "(75, 51, 2, 256, 2048)\n"
     ]
    }
   ],
   "source": [
    "root_path = '/archive/MIL/friedman/Yeast/mic60GFP-MitoDsRED/200603/Cell1_decon'\n",
    "\n",
    "export_path = root_path + \"_sheared\"\n",
    "if os.path.isdir(export_path):\n",
    "    print(\"Folder Already Exists\")\n",
    "else:\n",
    "    os.mkdir(export_path)\n",
    "\n",
    "data_path = os.path.join(root_path, '1_CH00_000000.tif')\n",
    "test = imread(data_path)\n",
    "\n",
    "test = np.array(test);\n",
    "shape = test.shape\n",
    "print(shape)"
   ]
  },
  {
   "cell_type": "code",
   "execution_count": 11,
   "metadata": {},
   "outputs": [
    {
     "data": {
      "application/vnd.jupyter.widget-view+json": {
       "model_id": "4bec96a8d105430ba57cdecab2132326",
       "version_major": 2,
       "version_minor": 0
      },
      "text/plain": [
       "HBox(children=(FloatProgress(value=0.0, max=2.0), HTML(value='')))"
      ]
     },
     "metadata": {},
     "output_type": "display_data"
    },
    {
     "data": {
      "application/vnd.jupyter.widget-view+json": {
       "model_id": "bf801b8514db4b9e857add04cf9fa1a2",
       "version_major": 2,
       "version_minor": 0
      },
      "text/plain": [
       "HBox(children=(FloatProgress(value=0.0, max=75.0), HTML(value='')))"
      ]
     },
     "metadata": {},
     "output_type": "display_data"
    },
    {
     "name": "stdout",
     "output_type": "stream",
     "text": [
      "\n"
     ]
    },
    {
     "data": {
      "application/vnd.jupyter.widget-view+json": {
       "model_id": "a00a03349d414b84844fe03196929c88",
       "version_major": 2,
       "version_minor": 0
      },
      "text/plain": [
       "HBox(children=(FloatProgress(value=0.0, max=75.0), HTML(value='')))"
      ]
     },
     "metadata": {},
     "output_type": "display_data"
    },
    {
     "name": "stdout",
     "output_type": "stream",
     "text": [
      "\n",
      "\n"
     ]
    }
   ],
   "source": [
    "for channel in tqdm(range(shape[2])):\n",
    "    for time in tqdm(range(shape[0])):\n",
    "        inArray = test[time,:,channel,:,:]\n",
    "        inArray = inArray - np.amin(inArray)\n",
    "        inArray = rotate_image(inArray, 90, axes=(1,2))\n",
    "        test_deskewed = deskew(inArray, 26, 400, 115)\n",
    "        export_name = os.path.join(export_path, '1_CH0' + str(channel) + '_' + str((\"{:06d}\".format(time))) + '.tif')\n",
    "        imsave(export_name, test_deskewed)"
   ]
  },
  {
   "cell_type": "code",
   "execution_count": 14,
   "metadata": {},
   "outputs": [
    {
     "name": "stdout",
     "output_type": "stream",
     "text": [
      "(120, 51, 256, 2048)\n"
     ]
    }
   ],
   "source": [
    "root_path = '/archive/MIL/friedman/Yeast/Mic60GFP/200603/Cell3_decon'\n",
    "\n",
    "export_path = root_path + \"_sheared\"\n",
    "if os.path.isdir(export_path):\n",
    "    print(\"Folder Already Exists\")\n",
    "else:\n",
    "    os.mkdir(export_path)\n",
    "\n",
    "data_path = os.path.join(root_path, '1_CH00_000000.tif')\n",
    "test = imread(data_path)\n",
    "\n",
    "test = np.array(test);\n",
    "shape = test.shape\n",
    "print(shape)"
   ]
  },
  {
   "cell_type": "code",
   "execution_count": 15,
   "metadata": {},
   "outputs": [
    {
     "data": {
      "application/vnd.jupyter.widget-view+json": {
       "model_id": "c029a404334c448aa7d7d97e434d2e51",
       "version_major": 2,
       "version_minor": 0
      },
      "text/plain": [
       "HBox(children=(FloatProgress(value=0.0, max=120.0), HTML(value='')))"
      ]
     },
     "metadata": {},
     "output_type": "display_data"
    },
    {
     "name": "stdout",
     "output_type": "stream",
     "text": [
      "\n"
     ]
    }
   ],
   "source": [
    "for time in tqdm(range(shape[0])):\n",
    "    inArray = test[time,:,:,:]\n",
    "    inArray = inArray - np.amin(inArray)\n",
    "    inArray = rotate_image(inArray, 90, axes=(1,2))\n",
    "    test_deskewed = deskew(inArray, 26, 400, 115)\n",
    "    export_name = os.path.join(export_path, '1_CH0' + str(channel) + '_' + str((\"{:06d}\".format(time))) + '.tif')\n",
    "    imsave(export_name, test_deskewed)"
   ]
  },
  {
   "cell_type": "code",
   "execution_count": null,
   "metadata": {},
   "outputs": [],
   "source": []
  }
 ],
 "metadata": {
  "kernelspec": {
   "display_name": "Python 3",
   "language": "python",
   "name": "python3"
  },
  "language_info": {
   "codemirror_mode": {
    "name": "ipython",
    "version": 3
   },
   "file_extension": ".py",
   "mimetype": "text/x-python",
   "name": "python",
   "nbconvert_exporter": "python",
   "pygments_lexer": "ipython3",
   "version": "3.6.10"
  }
 },
 "nbformat": 4,
 "nbformat_minor": 4
}
