{
 "cells": [
  {
   "cell_type": "markdown",
   "id": "unexpected-microphone",
   "metadata": {},
   "source": [
    "# Pyclesperanto-Prototype\n",
    "### Testing Software\n",
    "https://github.com/clEsperanto/pyclesperanto_prototype\n"
   ]
  },
  {
   "cell_type": "code",
   "execution_count": 2,
   "id": "expected-ladder",
   "metadata": {},
   "outputs": [],
   "source": [
    "import pyclesperanto_prototype as cle\n",
    "from skimage.io import imread, imsave"
   ]
  },
  {
   "cell_type": "markdown",
   "id": "spare-sending",
   "metadata": {},
   "source": [
    "# Initialize GPU"
   ]
  },
  {
   "cell_type": "code",
   "execution_count": 3,
   "id": "developed-salvation",
   "metadata": {},
   "outputs": [
    {
     "name": "stdout",
     "output_type": "stream",
     "text": [
      "Used GPU: Tesla V100-PCIE-32GB\n"
     ]
    }
   ],
   "source": [
    "cle.select_device()\n",
    "print(\"Used GPU: \" + cle.get_device().name)"
   ]
  },
  {
   "cell_type": "code",
   "execution_count": 4,
   "id": "eligible-moore",
   "metadata": {},
   "outputs": [
    {
     "name": "stdout",
     "output_type": "stream",
     "text": [
      "Loaded image size: (254, 256)\n",
      "Image size in GPU: (254, 256)\n",
      "Num objects in the image: 63.0\n",
      "[[ 0.  0.  0. ... 60. 60. 60.]\n",
      " [ 0.  0.  0. ... 60. 60. 60.]\n",
      " [ 0.  0.  0. ... 60. 60. 60.]\n",
      " ...\n",
      " [ 0.  0.  0. ...  0.  0.  0.]\n",
      " [ 0.  0.  0. ...  0.  0.  0.]\n",
      " [ 0.  0.  0. ...  0.  0.  0.]]\n"
     ]
    }
   ],
   "source": [
    "# load data\n",
    "image = imread('https://imagej.nih.gov/ij/images/blobs.gif')\n",
    "print(\"Loaded image size: \" + str(image.shape))\n",
    "\n",
    "# push image to GPU memory\n",
    "input = cle.push(image)\n",
    "print(\"Image size in GPU: \" + str(input.shape))\n",
    "\n",
    "# process the image\n",
    "inverted = cle.subtract_image_from_scalar(image, scalar=255)\n",
    "blurred = cle.gaussian_blur(inverted, sigma_x=1, sigma_y=1)\n",
    "binary = cle.threshold_otsu(blurred)\n",
    "labeled = cle.connected_components_labeling_box(binary)\n",
    "\n",
    "# The maxmium intensity in a label image corresponds to the number of objects\n",
    "num_labels = cle.maximum_of_all_pixels(labeled)\n",
    "\n",
    "# print out result\n",
    "print(\"Num objects in the image: \" + str(num_labels))\n",
    "\n",
    "# for debugging: print out image\n",
    "print(labeled)\n",
    "\n",
    "# for debugging: save image to disc\n",
    "imsave(\"result.tif\", cle.pull(labeled))"
   ]
  },
  {
   "cell_type": "code",
   "execution_count": null,
   "id": "south-convertible",
   "metadata": {},
   "outputs": [],
   "source": []
  }
 ],
 "metadata": {
  "kernelspec": {
   "display_name": "pyclesperanto",
   "language": "python",
   "name": "pyclesperanto"
  },
  "language_info": {
   "codemirror_mode": {
    "name": "ipython",
    "version": 3
   },
   "file_extension": ".py",
   "mimetype": "text/x-python",
   "name": "python",
   "nbconvert_exporter": "python",
   "pygments_lexer": "ipython3",
   "version": "3.7.9"
  }
 },
 "nbformat": 4,
 "nbformat_minor": 5
}
