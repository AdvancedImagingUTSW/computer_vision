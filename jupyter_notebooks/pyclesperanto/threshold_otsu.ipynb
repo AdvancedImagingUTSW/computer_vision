{
 "cells": [
  {
   "cell_type": "markdown",
   "metadata": {},
   "source": [
    "# Otsu's threshold in scikit-image and pyclesperanto\n",
    "This notebook compares different implementations of Otsu's thresholding method. pyclesperanto's `thresholding_otsu` uses scikit-image under the hood. It just determines the histogram differently, on the GPU, and also applies the threshold on the GPU.\n",
    "\n",
    "**Note:** benchmarking results vary heavily depending on image size, kernel size, used operations, parameters and used hardware. Use this notebook to adapt it to your use-case scenario and benchmark on your target hardware. If you have different scenarios or use-cases, you are very welcome to submit your notebook as pull-request!"
   ]
  },
  {
   "cell_type": "code",
   "execution_count": 1,
   "metadata": {},
   "outputs": [
    {
     "data": {
      "text/plain": [
       "<Tesla V100-PCIE-32GB on Platform: NVIDIA CUDA (1 refs)>"
      ]
     },
     "execution_count": 1,
     "metadata": {},
     "output_type": "execute_result"
    }
   ],
   "source": [
    "import pyclesperanto_prototype as cle\n",
    "from skimage import filters\n",
    "import time\n",
    "\n",
    "# to measure kernel execution duration properly, we need to set this flag. It will slow down exection of workflows a bit though\n",
    "cle.set_wait_for_kernel_finish(True)\n",
    "\n",
    "# selet a GPU with the following in the name. This will fallback to any other GPU if none with this name is found\n",
    "cle.select_device()"
   ]
  },
  {
   "cell_type": "code",
   "execution_count": 2,
   "metadata": {},
   "outputs": [],
   "source": [
    "# test data\n",
    "import numpy as np\n",
    "\n",
    "test_image = np.random.random([100, 512, 512])"
   ]
  },
  {
   "cell_type": "code",
   "execution_count": 3,
   "metadata": {},
   "outputs": [
    {
     "name": "stdout",
     "output_type": "stream",
     "text": [
      "skimage thresholding duration: 0.41438722610473633\n",
      "skimage thresholding duration: 0.3892812728881836\n",
      "skimage thresholding duration: 0.3861536979675293\n",
      "skimage thresholding duration: 0.3961625099182129\n",
      "skimage thresholding duration: 0.42673373222351074\n",
      "skimage thresholding duration: 0.43433141708374023\n",
      "skimage thresholding duration: 0.4112234115600586\n",
      "skimage thresholding duration: 0.4129905700683594\n",
      "skimage thresholding duration: 0.44335079193115234\n",
      "skimage thresholding duration: 0.3993053436279297\n"
     ]
    }
   ],
   "source": [
    "# thresholding with scikit-image\n",
    "result_image = None\n",
    "\n",
    "for i in range(0, 10):\n",
    "    start_time = time.time()\n",
    "    threshold = filters.threshold_otsu(test_image)\n",
    "    result_image = test_image >= threshold\n",
    "    print(\"skimage thresholding duration: \" + str(time.time() - start_time))"
   ]
  },
  {
   "cell_type": "code",
   "execution_count": 4,
   "metadata": {},
   "outputs": [
    {
     "name": "stdout",
     "output_type": "stream",
     "text": [
      "pyclesperanto thresholding duration: 0.3805711269378662\n",
      "pyclesperanto thresholding duration: 0.04647493362426758\n",
      "pyclesperanto thresholding duration: 0.045977115631103516\n",
      "pyclesperanto thresholding duration: 0.04598808288574219\n",
      "pyclesperanto thresholding duration: 0.04445958137512207\n",
      "pyclesperanto thresholding duration: 0.04259085655212402\n",
      "pyclesperanto thresholding duration: 0.042031049728393555\n",
      "pyclesperanto thresholding duration: 0.04233145713806152\n",
      "pyclesperanto thresholding duration: 0.042001962661743164\n",
      "pyclesperanto thresholding duration: 0.04208946228027344\n"
     ]
    }
   ],
   "source": [
    "# thresholding with pyclesperanto\n",
    "result_image = None\n",
    "\n",
    "test_image_gpu = cle.push_zyx(test_image)\n",
    "\n",
    "for i in range(0, 10):\n",
    "    start_time = time.time()\n",
    "    result_image = cle.threshold_otsu(test_image_gpu, result_image)\n",
    "    print(\"pyclesperanto thresholding duration: \" + str(time.time() - start_time))"
   ]
  },
  {
   "cell_type": "code",
   "execution_count": null,
   "metadata": {},
   "outputs": [],
   "source": []
  }
 ],
 "metadata": {
  "kernelspec": {
   "display_name": "pyclesperanto",
   "language": "python",
   "name": "pyclesperanto"
  },
  "language_info": {
   "codemirror_mode": {
    "name": "ipython",
    "version": 3
   },
   "file_extension": ".py",
   "mimetype": "text/x-python",
   "name": "python",
   "nbconvert_exporter": "python",
   "pygments_lexer": "ipython3",
   "version": "3.7.9"
  }
 },
 "nbformat": 4,
 "nbformat_minor": 4
}
