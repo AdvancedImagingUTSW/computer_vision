{
 "cells": [
  {
   "cell_type": "markdown",
   "metadata": {},
   "source": [
    "# Pixel-wise comparison\n",
    "clEsperanto brings some pixel-by-pixel comparison functions which are also available with numpy. Let's see how numpy performs in comparison with our OpenCL stuff. When doing similar comparisons with ImageJ, we saw more performance benefits when GPU-accelerating 3D operations compared to 2D operations. https://clij.github.io/clij-benchmarking/benchmarking_operations_jmh\n",
    "\n",
    "**Note:** benchmarking results vary heavily depending on image size, kernel size, used operations, parameters and used hardware. Use this notebook to adapt it to your use-case scenario and benchmark on your target hardware. If you have different scenarios or use-cases, you are very welcome to submit your notebook as pull-request!"
   ]
  },
  {
   "cell_type": "code",
   "execution_count": 1,
   "metadata": {},
   "outputs": [
    {
     "data": {
      "text/plain": [
       "<GeForce RTX 2070 on Platform: NVIDIA CUDA (1 refs)>"
      ]
     },
     "execution_count": 1,
     "metadata": {},
     "output_type": "execute_result"
    }
   ],
   "source": [
    "import pyclesperanto_prototype as cle\n",
    "import numpy as np\n",
    "import time\n",
    "\n",
    "# to measure kernel execution duration properly, we need to set this flag. It will slow down exection of workflows a bit though\n",
    "cle.set_wait_for_kernel_finish(True)\n",
    "\n",
    "# selet a GPU with the following in the name. This will fallback to any other GPU if none with this name is found\n",
    "cle.select_device('RTX')"
   ]
  },
  {
   "cell_type": "markdown",
   "metadata": {},
   "source": [
    "## Comparison operations"
   ]
  },
  {
   "cell_type": "code",
   "execution_count": 2,
   "metadata": {},
   "outputs": [],
   "source": [
    "# test data\n",
    "test_image1 = np.random.random([100, 512, 512])\n",
    "test_image2 = np.random.random([100, 512, 512])"
   ]
  },
  {
   "cell_type": "code",
   "execution_count": 3,
   "metadata": {},
   "outputs": [
    {
     "name": "stdout",
     "output_type": "stream",
     "text": [
      "Numpy greater_equal duration: 0.03446388244628906\n",
      "Numpy greater_equal duration: 0.03286576271057129\n",
      "Numpy greater_equal duration: 0.03494763374328613\n",
      "Numpy greater_equal duration: 0.03191685676574707\n",
      "Numpy greater_equal duration: 0.032909393310546875\n",
      "Numpy greater_equal duration: 0.0379033088684082\n",
      "Numpy greater_equal duration: 0.03354334831237793\n",
      "Numpy greater_equal duration: 0.03195619583129883\n",
      "Numpy greater_equal duration: 0.033867835998535156\n",
      "Numpy greater_equal duration: 0.031914472579956055\n"
     ]
    }
   ],
   "source": [
    "# comparie with numpy\n",
    "result_image = None\n",
    "\n",
    "for i in range(0, 10):\n",
    "    start_time = time.time()\n",
    "    result_image = np.greater_equal(test_image1, test_image2)\n",
    "    print(\"Numpy greater_equal duration: \" + str(time.time() - start_time))\n",
    "    "
   ]
  },
  {
   "cell_type": "code",
   "execution_count": 4,
   "metadata": {},
   "outputs": [
    {
     "name": "stdout",
     "output_type": "stream",
     "text": [
      "clEsperanto greater_or_equal duration: 0.1508791446685791\n",
      "clEsperanto greater_or_equal duration: 0.0009965896606445312\n",
      "clEsperanto greater_or_equal duration: 0.001994609832763672\n",
      "clEsperanto greater_or_equal duration: 0.000997304916381836\n",
      "clEsperanto greater_or_equal duration: 0.0009980201721191406\n",
      "clEsperanto greater_or_equal duration: 0.0019943714141845703\n",
      "clEsperanto greater_or_equal duration: 0.0009970664978027344\n",
      "clEsperanto greater_or_equal duration: 0.000997304916381836\n",
      "clEsperanto greater_or_equal duration: 0.0019948482513427734\n",
      "clEsperanto greater_or_equal duration: 0.0009989738464355469\n"
     ]
    }
   ],
   "source": [
    "# multiply with pyclesperanto\n",
    "result_image = None\n",
    "\n",
    "test_image1_gpu = cle.push_zyx(test_image1)\n",
    "test_image2_gpu = cle.push_zyx(test_image2)\n",
    "\n",
    "for i in range(0, 10):\n",
    "    start_time = time.time()\n",
    "    result_image = cle.greater_or_equal(test_image1_gpu, test_image2_gpu, result_image)\n",
    "    print(\"clEsperanto greater_or_equal duration: \" + str(time.time() - start_time))"
   ]
  },
  {
   "cell_type": "code",
   "execution_count": null,
   "metadata": {},
   "outputs": [],
   "source": []
  }
 ],
 "metadata": {
  "kernelspec": {
   "display_name": "Python 3",
   "language": "python",
   "name": "python3"
  },
  "language_info": {
   "codemirror_mode": {
    "name": "ipython",
    "version": 3
   },
   "file_extension": ".py",
   "mimetype": "text/x-python",
   "name": "python",
   "nbconvert_exporter": "python",
   "pygments_lexer": "ipython3",
   "version": "3.8.3"
  }
 },
 "nbformat": 4,
 "nbformat_minor": 4
}
