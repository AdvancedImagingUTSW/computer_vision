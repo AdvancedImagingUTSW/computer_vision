{
 "cells": [
  {
   "cell_type": "markdown",
   "metadata": {},
   "source": [
    "# Gaussian blur benchmarking\n",
    "This notebook compares different implementations of the Gaussian blur filter.\n",
    "\n",
    "**Note:** benchmarking results vary heavily depending on image size, kernel size, used operations, parameters and used hardware. Use this notebook to adapt it to your use-case scenario and benchmark on your target hardware. If you have different scenarios or use-cases, you are very welcome to submit your notebook as pull-request!"
   ]
  },
  {
   "cell_type": "code",
   "execution_count": 1,
   "metadata": {},
   "outputs": [
    {
     "data": {
      "text/plain": [
       "<Tesla V100-PCIE-32GB on Platform: NVIDIA CUDA (1 refs)>"
      ]
     },
     "execution_count": 1,
     "metadata": {},
     "output_type": "execute_result"
    }
   ],
   "source": [
    "import pyclesperanto_prototype as cle\n",
    "from skimage import filters\n",
    "import time\n",
    "\n",
    "# to measure kernel execution duration properly, we need to set this flag. It will slow down exection of workflows a bit though\n",
    "cle.set_wait_for_kernel_finish(True)\n",
    "\n",
    "# selet a GPU with the following in the name. This will fallback to any other GPU if none with this name is found\n",
    "cle.select_device()"
   ]
  },
  {
   "cell_type": "markdown",
   "metadata": {},
   "source": [
    "### Import test data"
   ]
  },
  {
   "cell_type": "code",
   "execution_count": 2,
   "metadata": {},
   "outputs": [],
   "source": [
    "import numpy as np\n",
    "\n",
    "test_image = np.random.random([100, 512, 512])\n",
    "\n",
    "sigma = 10"
   ]
  },
  {
   "cell_type": "markdown",
   "metadata": {},
   "source": [
    "### Convolve with scikit-image"
   ]
  },
  {
   "cell_type": "code",
   "execution_count": 3,
   "metadata": {},
   "outputs": [
    {
     "name": "stdout",
     "output_type": "stream",
     "text": [
      "skimage Gaussian duration: 3.645167350769043\n",
      "skimage Gaussian duration: 3.432009696960449\n",
      "skimage Gaussian duration: 3.562495470046997\n",
      "skimage Gaussian duration: 3.586369752883911\n",
      "skimage Gaussian duration: 3.5348148345947266\n",
      "skimage Gaussian duration: 3.409261465072632\n",
      "skimage Gaussian duration: 3.5300440788269043\n",
      "skimage Gaussian duration: 3.5028865337371826\n",
      "skimage Gaussian duration: 3.527775764465332\n",
      "skimage Gaussian duration: 3.6028225421905518\n"
     ]
    }
   ],
   "source": [
    "result_image = None\n",
    "\n",
    "for i in range(0, 10):\n",
    "    start_time = time.time()\n",
    "    result_image = filters.gaussian(test_image, output=result_image, sigma=sigma)\n",
    "    print(\"skimage Gaussian duration: \" + str(time.time() - start_time))\n",
    "    "
   ]
  },
  {
   "cell_type": "markdown",
   "metadata": {},
   "source": [
    "### Convolve with pyclesperanto"
   ]
  },
  {
   "cell_type": "code",
   "execution_count": 4,
   "metadata": {},
   "outputs": [
    {
     "name": "stdout",
     "output_type": "stream",
     "text": [
      "pyclesperanto Gaussian duration: 0.17095088958740234\n",
      "pyclesperanto Gaussian duration: 0.03353619575500488\n",
      "pyclesperanto Gaussian duration: 0.032669782638549805\n",
      "pyclesperanto Gaussian duration: 0.0324854850769043\n",
      "pyclesperanto Gaussian duration: 0.03263449668884277\n",
      "pyclesperanto Gaussian duration: 0.033460140228271484\n",
      "pyclesperanto Gaussian duration: 0.034812211990356445\n",
      "pyclesperanto Gaussian duration: 0.03027486801147461\n",
      "pyclesperanto Gaussian duration: 0.030483007431030273\n",
      "pyclesperanto Gaussian duration: 0.030155420303344727\n"
     ]
    }
   ],
   "source": [
    "result_image = None\n",
    "\n",
    "test_image_gpu = cle.push_zyx(test_image)\n",
    "\n",
    "for i in range(0, 10):\n",
    "    start_time = time.time()\n",
    "    result_image = cle.gaussian_blur(test_image_gpu, result_image, sigma_x=sigma, sigma_y=sigma, sigma_z=sigma)\n",
    "    print(\"pyclesperanto Gaussian duration: \" + str(time.time() - start_time))"
   ]
  },
  {
   "cell_type": "code",
   "execution_count": null,
   "metadata": {},
   "outputs": [],
   "source": []
  }
 ],
 "metadata": {
  "kernelspec": {
   "display_name": "pyclesperanto",
   "language": "python",
   "name": "pyclesperanto"
  },
  "language_info": {
   "codemirror_mode": {
    "name": "ipython",
    "version": 3
   },
   "file_extension": ".py",
   "mimetype": "text/x-python",
   "name": "python",
   "nbconvert_exporter": "python",
   "pygments_lexer": "ipython3",
   "version": "3.7.9"
  }
 },
 "nbformat": 4,
 "nbformat_minor": 4
}
