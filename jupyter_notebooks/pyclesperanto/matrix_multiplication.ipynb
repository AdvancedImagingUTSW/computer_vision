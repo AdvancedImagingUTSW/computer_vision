{
 "cells": [
  {
   "cell_type": "markdown",
   "metadata": {},
   "source": [
    "# Matrix multiplication\n",
    "clEsperanto brings operations for multiplying images and matrices which are also available with numpy. Let's see how numpy performs in comparison with our OpenCL stuff. When doing similar comparisons with ImageJ, we saw more performance benefits when GPU-accelerating 3D operations compared to 2D operations. https://clij.github.io/clij-benchmarking/benchmarking_operations_jmh\n",
    "\n",
    "**Note:** benchmarking results vary heavily depending on image size, kernel size, used operations, parameters and used hardware. Use this notebook to adapt it to your use-case scenario and benchmark on your target hardware. If you have different scenarios or use-cases, you are very welcome to submit your notebook as pull-request!"
   ]
  },
  {
   "cell_type": "code",
   "execution_count": 1,
   "metadata": {},
   "outputs": [
    {
     "data": {
      "text/plain": [
       "<GeForce RTX 2070 on Platform: NVIDIA CUDA (1 refs)>"
      ]
     },
     "execution_count": 1,
     "metadata": {},
     "output_type": "execute_result"
    }
   ],
   "source": [
    "import pyclesperanto_prototype as cle\n",
    "import time\n",
    "\n",
    "# to measure kernel execution duration properly, we need to set this flag. It will slow down exection of workflows a bit though\n",
    "cle.set_wait_for_kernel_finish(True)\n",
    "\n",
    "# selet a GPU with the following in the name. This will fallback to any other GPU if none with this name is found\n",
    "cle.select_device('RTX')"
   ]
  },
  {
   "cell_type": "markdown",
   "metadata": {},
   "source": [
    "## Matrix multiplication"
   ]
  },
  {
   "cell_type": "code",
   "execution_count": 2,
   "metadata": {},
   "outputs": [],
   "source": [
    "# test data\n",
    "import numpy as np\n",
    "\n",
    "test_matrix1 = np.random.random([1024, 512])\n",
    "test_matrix2 = np.random.random([512, 1024])"
   ]
  },
  {
   "cell_type": "code",
   "execution_count": 3,
   "metadata": {},
   "outputs": [
    {
     "name": "stdout",
     "output_type": "stream",
     "text": [
      "Numpy matrix multiplication duration: 0.014960050582885742\n",
      "Numpy matrix multiplication duration: 0.012964487075805664\n",
      "Numpy matrix multiplication duration: 0.012965917587280273\n",
      "Numpy matrix multiplication duration: 0.012968063354492188\n",
      "Numpy matrix multiplication duration: 0.012962818145751953\n",
      "Numpy matrix multiplication duration: 0.010969877243041992\n",
      "Numpy matrix multiplication duration: 0.012965679168701172\n",
      "Numpy matrix multiplication duration: 0.01296544075012207\n",
      "Numpy matrix multiplication duration: 0.014960050582885742\n",
      "Numpy matrix multiplication duration: 0.013962984085083008\n",
      "(1024, 1024)\n"
     ]
    }
   ],
   "source": [
    "# multiply with numpy\n",
    "result_matrix = None\n",
    "\n",
    "for i in range(0, 10):\n",
    "    start_time = time.time()\n",
    "    result_matrix = np.matmul(test_matrix1, test_matrix2, out=result_matrix)\n",
    "    print(\"Numpy matrix multiplication duration: \" + str(time.time() - start_time))\n",
    "\n",
    "print(result_matrix.shape)"
   ]
  },
  {
   "cell_type": "code",
   "execution_count": 4,
   "metadata": {},
   "outputs": [
    {
     "name": "stdout",
     "output_type": "stream",
     "text": [
      "clEsperanto matrix multiplication duration: 0.08975839614868164\n",
      "clEsperanto matrix multiplication duration: 0.002990245819091797\n",
      "clEsperanto matrix multiplication duration: 0.003989219665527344\n",
      "clEsperanto matrix multiplication duration: 0.0029921531677246094\n",
      "clEsperanto matrix multiplication duration: 0.002991914749145508\n",
      "clEsperanto matrix multiplication duration: 0.00299072265625\n",
      "clEsperanto matrix multiplication duration: 0.002992391586303711\n",
      "clEsperanto matrix multiplication duration: 0.003989458084106445\n",
      "clEsperanto matrix multiplication duration: 0.0029916763305664062\n",
      "clEsperanto matrix multiplication duration: 0.0030281543731689453\n"
     ]
    }
   ],
   "source": [
    "# multiply with clesperanto\n",
    "result_matrix = cle.create([1024, 1024])\n",
    "\n",
    "test_matrix1_gpu = cle.push_zyx(test_matrix1)\n",
    "test_matrix2_gpu = cle.push_zyx(test_matrix2)\n",
    "\n",
    "for i in range(0, 10):\n",
    "    start_time = time.time()\n",
    "    cle.multiply_matrix(test_matrix1_gpu, test_matrix2_gpu, result_matrix)\n",
    "    print(\"clEsperanto matrix multiplication duration: \" + str(time.time() - start_time))\n"
   ]
  },
  {
   "cell_type": "markdown",
   "metadata": {},
   "source": [
    "## Elementwise multiplication"
   ]
  },
  {
   "cell_type": "code",
   "execution_count": 5,
   "metadata": {},
   "outputs": [],
   "source": [
    "# test data\n",
    "import numpy as np\n",
    "\n",
    "test_image1 = np.random.random([100, 512, 512])\n",
    "test_image2 = np.random.random([100, 512, 512])"
   ]
  },
  {
   "cell_type": "code",
   "execution_count": 6,
   "metadata": {},
   "outputs": [
    {
     "name": "stdout",
     "output_type": "stream",
     "text": [
      "Numpy elementwise multiplication duration: 0.09574317932128906\n",
      "Numpy elementwise multiplication duration: 0.1077110767364502\n",
      "Numpy elementwise multiplication duration: 0.11070513725280762\n",
      "Numpy elementwise multiplication duration: 0.11172819137573242\n",
      "Numpy elementwise multiplication duration: 0.15555429458618164\n",
      "Numpy elementwise multiplication duration: 0.11569046974182129\n",
      "Numpy elementwise multiplication duration: 0.11469459533691406\n",
      "Numpy elementwise multiplication duration: 0.13663578033447266\n",
      "Numpy elementwise multiplication duration: 0.15059328079223633\n",
      "Numpy elementwise multiplication duration: 0.14261746406555176\n"
     ]
    }
   ],
   "source": [
    "# multiply with numpy\n",
    "result_image = None\n",
    "\n",
    "for i in range(0, 10):\n",
    "    start_time = time.time()\n",
    "    result_image = np.multiply(test_image1, test_image2)\n",
    "    print(\"Numpy elementwise multiplication duration: \" + str(time.time() - start_time))\n",
    "    "
   ]
  },
  {
   "cell_type": "code",
   "execution_count": 7,
   "metadata": {},
   "outputs": [
    {
     "name": "stdout",
     "output_type": "stream",
     "text": [
      "clEsperanto elementwise multiplication duration: 0.48641347885131836\n",
      "clEsperanto elementwise multiplication duration: 0.0029888153076171875\n",
      "clEsperanto elementwise multiplication duration: 0.001994609832763672\n",
      "clEsperanto elementwise multiplication duration: 0.0019943714141845703\n",
      "clEsperanto elementwise multiplication duration: 0.0019943714141845703\n",
      "clEsperanto elementwise multiplication duration: 0.0019948482513427734\n",
      "clEsperanto elementwise multiplication duration: 0.0009970664978027344\n",
      "clEsperanto elementwise multiplication duration: 0.001995563507080078\n",
      "clEsperanto elementwise multiplication duration: 0.001993894577026367\n",
      "clEsperanto elementwise multiplication duration: 0.001995086669921875\n"
     ]
    }
   ],
   "source": [
    "# multiply with pyclesperanto\n",
    "result_image = None\n",
    "\n",
    "test_image1_gpu = cle.push_zyx(test_image1)\n",
    "test_image2_gpu = cle.push_zyx(test_image2)\n",
    "\n",
    "for i in range(0, 10):\n",
    "    start_time = time.time()\n",
    "    result_image = cle.multiply_images(test_image1_gpu, test_image2_gpu, result_image)\n",
    "    print(\"clEsperanto elementwise multiplication duration: \" + str(time.time() - start_time))"
   ]
  },
  {
   "cell_type": "code",
   "execution_count": 8,
   "metadata": {},
   "outputs": [
    {
     "name": "stdout",
     "output_type": "stream",
     "text": [
      "clEsperanto elementwise multiplication duration (+ memory allocation): 0.006981849670410156\n",
      "clEsperanto elementwise multiplication duration (+ memory allocation): 0.009005546569824219\n",
      "clEsperanto elementwise multiplication duration (+ memory allocation): 0.008945941925048828\n",
      "clEsperanto elementwise multiplication duration (+ memory allocation): 0.008008003234863281\n",
      "clEsperanto elementwise multiplication duration (+ memory allocation): 0.007951736450195312\n",
      "clEsperanto elementwise multiplication duration (+ memory allocation): 0.007978439331054688\n",
      "clEsperanto elementwise multiplication duration (+ memory allocation): 0.006978511810302734\n",
      "clEsperanto elementwise multiplication duration (+ memory allocation): 0.00697636604309082\n",
      "clEsperanto elementwise multiplication duration (+ memory allocation): 0.006960868835449219\n",
      "clEsperanto elementwise multiplication duration (+ memory allocation): 0.00701141357421875\n"
     ]
    }
   ],
   "source": [
    "# multiply with pyclesperanto while _not_ reusing memory\n",
    "result_image = None\n",
    "\n",
    "test_image1_gpu = cle.push_zyx(test_image1)\n",
    "test_image2_gpu = cle.push_zyx(test_image2)\n",
    "\n",
    "for i in range(0, 10):\n",
    "    start_time = time.time()\n",
    "    result_image = cle.multiply_images(test_image1_gpu, test_image2_gpu)\n",
    "    print(\"clEsperanto elementwise multiplication duration (+ memory allocation): \" + str(time.time() - start_time))"
   ]
  },
  {
   "cell_type": "code",
   "execution_count": null,
   "metadata": {},
   "outputs": [],
   "source": []
  }
 ],
 "metadata": {
  "kernelspec": {
   "display_name": "Python 3",
   "language": "python",
   "name": "python3"
  },
  "language_info": {
   "codemirror_mode": {
    "name": "ipython",
    "version": 3
   },
   "file_extension": ".py",
   "mimetype": "text/x-python",
   "name": "python",
   "nbconvert_exporter": "python",
   "pygments_lexer": "ipython3",
   "version": "3.8.3"
  }
 },
 "nbformat": 4,
 "nbformat_minor": 4
}
