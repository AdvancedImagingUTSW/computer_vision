{
 "cells": [
  {
   "cell_type": "markdown",
   "metadata": {},
   "source": [
    "# Axis transposition benchmarking\n",
    "This notebook compares performance of different implementations of transposing axes.\n",
    "\n",
    "**Note:** benchmarking results vary heavily depending on image size, kernel size, used operations, parameters and used hardware. Use this notebook to adapt it to your use-case scenario and benchmark on your target hardware. If you have different scenarios or use-cases, you are very welcome to submit your notebook as pull-request!"
   ]
  },
  {
   "cell_type": "code",
   "execution_count": 1,
   "metadata": {},
   "outputs": [
    {
     "data": {
      "text/plain": [
       "<GeForce RTX 2070 on Platform: NVIDIA CUDA (1 refs)>"
      ]
     },
     "execution_count": 1,
     "metadata": {},
     "output_type": "execute_result"
    }
   ],
   "source": [
    "import pyclesperanto_prototype as cle\n",
    "import numpy as np\n",
    "import time\n",
    "\n",
    "# to measure kernel execution duration properly, we need to set this flag. It will slow down exection of workflows a bit though\n",
    "cle.set_wait_for_kernel_finish(True)\n",
    "\n",
    "# selet a GPU with the following in the name. This will fallback to any other GPU if none with this name is found\n",
    "cle.select_device('RTX')"
   ]
  },
  {
   "cell_type": "code",
   "execution_count": 2,
   "metadata": {},
   "outputs": [],
   "source": [
    "# test data\n",
    "import numpy as np\n",
    "\n",
    "test_image = np.random.random([100, 512, 1024])"
   ]
  },
  {
   "cell_type": "code",
   "execution_count": 3,
   "metadata": {},
   "outputs": [
    {
     "name": "stdout",
     "output_type": "stream",
     "text": [
      "numpy transpose duration: 0.0\n",
      "numpy transpose duration: 0.0\n",
      "numpy transpose duration: 0.0\n",
      "numpy transpose duration: 0.0\n",
      "numpy transpose duration: 0.0\n",
      "numpy transpose duration: 0.0\n",
      "numpy transpose duration: 0.0\n",
      "numpy transpose duration: 0.0\n",
      "numpy transpose duration: 0.0\n",
      "numpy transpose duration: 0.0\n"
     ]
    }
   ],
   "source": [
    "# transpose with numpy\n",
    "result_image = None\n",
    "\n",
    "for i in range(0, 10):\n",
    "    start_time = time.time()\n",
    "    result_image = np.transpose(test_image, (2, 1, 0))\n",
    "    print(\"numpy transpose duration: \" + str(time.time() - start_time))\n",
    "    "
   ]
  },
  {
   "cell_type": "code",
   "execution_count": 4,
   "metadata": {},
   "outputs": [
    {
     "name": "stdout",
     "output_type": "stream",
     "text": [
      "pyclesperanto transpose duration: 0.5206706523895264\n",
      "pyclesperanto transpose duration: 0.01561737060546875\n",
      "pyclesperanto transpose duration: 0.02116107940673828\n",
      "pyclesperanto transpose duration: 0.015658855438232422\n",
      "pyclesperanto transpose duration: 0.031207799911499023\n",
      "pyclesperanto transpose duration: 0.015656471252441406\n",
      "pyclesperanto transpose duration: 0.015619516372680664\n",
      "pyclesperanto transpose duration: 0.022141695022583008\n",
      "pyclesperanto transpose duration: 0.031244993209838867\n",
      "pyclesperanto transpose duration: 0.015657901763916016\n"
     ]
    }
   ],
   "source": [
    "# transpose with pyclesperanto\n",
    "result_image = None\n",
    "\n",
    "test_image_gpu = cle.push_zyx(test_image)\n",
    "\n",
    "for i in range(0, 10):\n",
    "    start_time = time.time()\n",
    "    result_image = cle.transpose_xz(test_image_gpu, result_image)\n",
    "    print(\"pyclesperanto transpose duration: \" + str(time.time() - start_time))"
   ]
  },
  {
   "cell_type": "code",
   "execution_count": null,
   "metadata": {},
   "outputs": [],
   "source": []
  }
 ],
 "metadata": {
  "kernelspec": {
   "display_name": "Python 3",
   "language": "python",
   "name": "python3"
  },
  "language_info": {
   "codemirror_mode": {
    "name": "ipython",
    "version": 3
   },
   "file_extension": ".py",
   "mimetype": "text/x-python",
   "name": "python",
   "nbconvert_exporter": "python",
   "pygments_lexer": "ipython3",
   "version": "3.8.5"
  }
 },
 "nbformat": 4,
 "nbformat_minor": 4
}
