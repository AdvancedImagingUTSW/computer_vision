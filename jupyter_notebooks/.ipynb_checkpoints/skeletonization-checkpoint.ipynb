{
 "cells": [
  {
   "cell_type": "code",
   "execution_count": 2,
   "id": "micro-welcome",
   "metadata": {},
   "outputs": [],
   "source": [
    "import os\n",
    "if 'BINDER_SERVICE_HOST' in os.environ:\n",
    "    os.environ['DISPLAY'] = ':1.0'\n",
    "    \n",
    "import napari\n",
    "import numpy as np\n",
    "import matplotlib.pyplot as plt\n",
    "from skimage import filters, morphology\n",
    "from skimage.io import imread, imsave\n",
    "from skimage.segmentation import flood, flood_fill\n",
    "from skimage.measure import label, regionprops\n",
    "\n",
    "import pyclesperanto_prototype as cle\n",
    "import SimpleITK as sitk"
   ]
  },
  {
   "cell_type": "code",
   "execution_count": 3,
   "id": "appreciated-module",
   "metadata": {},
   "outputs": [],
   "source": [
    "gui qt"
   ]
  },
  {
   "cell_type": "code",
   "execution_count": 4,
   "id": "electronic-scanning",
   "metadata": {},
   "outputs": [
    {
     "name": "stdout",
     "output_type": "stream",
     "text": [
      "(511, 866, 814)\n"
     ]
    }
   ],
   "source": [
    "# Load the Data\n",
    "data_location = '/archive/MIL/marciano/20201211_CapillaryLooping/cropped/mutant/cellpose'\n",
    "image_name = '1_CH00_000000_cp_masks.tif'\n",
    "imdata = imread(os.path.join(data_location, image_name))\n",
    "imdata = np.array(imdata)"
   ]
  },
  {
   "cell_type": "code",
   "execution_count": 11,
   "id": "improving-screening",
   "metadata": {},
   "outputs": [],
   "source": [
    "# Binarize\n",
    "imdata_binary = imdata >= 1;"
   ]
  },
  {
   "cell_type": "code",
   "execution_count": 11,
   "id": "based-conducting",
   "metadata": {},
   "outputs": [],
   "source": [
    "# Remove small features\n",
    "imdata_binary2 = morphology.remove_small_objects(imdata_binary, 25)"
   ]
  },
  {
   "cell_type": "code",
   "execution_count": 21,
   "id": "thermal-acrylic",
   "metadata": {},
   "outputs": [],
   "source": [
    "# Median Filter\n",
    "imdata_filtered = filters.median(imdata_binary2, morphology.cube(5))"
   ]
  },
  {
   "cell_type": "code",
   "execution_count": 22,
   "id": "correct-radio",
   "metadata": {},
   "outputs": [],
   "source": [
    "# Fill Holes\n",
    "from scipy import ndimage\n",
    "imdata_filled = ndimage.binary_fill_holes(imdata_filtered)"
   ]
  },
  {
   "cell_type": "code",
   "execution_count": 25,
   "id": "greenhouse-bridges",
   "metadata": {},
   "outputs": [],
   "source": [
    "# Image Erosion\n",
    "imdata_eroded = morphology.binary_erosion(imdata_filled, morphology.cube(3))"
   ]
  },
  {
   "cell_type": "code",
   "execution_count": 27,
   "id": "decimal-numbers",
   "metadata": {},
   "outputs": [],
   "source": [
    "# Skeletonization\n",
    "skeleton_lee = morphology.skeletonize(imdata_eroded, method='lee')"
   ]
  },
  {
   "cell_type": "code",
   "execution_count": 34,
   "id": "delayed-italy",
   "metadata": {},
   "outputs": [],
   "source": [
    "# Display Data\n",
    "voxel_anisotropy = [1, 1, 1]\n",
    "with napari.gui_qt():\n",
    "\tviewer = napari.Viewer(ndisplay=2)\n",
    "\tlayer = viewer.add_image(data=imdata_eroded, scale=voxel_anisotropy, name='binary')\n",
    "\tlayer2 = viewer.add_image(data=skeleton_lee, scale=voxel_anisotropy, opacity=0.5, name='skeleton')\n",
    "\tlayer3 = viewer.add_image(data=imdata, scale=voxel_anisotropy, opacity=0.5, name='raw data')\n"
   ]
  },
  {
   "cell_type": "code",
   "execution_count": null,
   "id": "described-sellers",
   "metadata": {},
   "outputs": [],
   "source": []
  }
 ],
 "metadata": {
  "kernelspec": {
   "display_name": "pyclesperanto",
   "language": "python",
   "name": "pyclesperanto"
  },
  "language_info": {
   "codemirror_mode": {
    "name": "ipython",
    "version": 3
   },
   "file_extension": ".py",
   "mimetype": "text/x-python",
   "name": "python",
   "nbconvert_exporter": "python",
   "pygments_lexer": "ipython3",
   "version": "3.7.9"
  }
 },
 "nbformat": 4,
 "nbformat_minor": 5
}
