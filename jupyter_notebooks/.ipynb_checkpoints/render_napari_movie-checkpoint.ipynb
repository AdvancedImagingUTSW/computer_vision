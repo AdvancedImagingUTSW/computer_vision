{
 "cells": [
  {
   "cell_type": "markdown",
   "metadata": {},
   "source": [
    "# Render Attenuated MIP Movie with napari\n",
    "The attenuated MIP feature is nice in napari, and this script loops through the data, renders it, and saves it to the specified directory."
   ]
  },
  {
   "cell_type": "markdown",
   "metadata": {},
   "source": [
    "### Import Modules"
   ]
  },
  {
   "cell_type": "code",
   "execution_count": 1,
   "metadata": {},
   "outputs": [],
   "source": [
    "import os\n",
    "if 'BINDER_SERVICE_HOST' in os.environ:\n",
    "    os.environ['DISPLAY'] = ':1.0'\n",
    "    \n",
    "import napari\n",
    "from tifffile import imread"
   ]
  },
  {
   "cell_type": "markdown",
   "metadata": {},
   "source": [
    "### Load napari qt GUI"
   ]
  },
  {
   "cell_type": "code",
   "execution_count": 2,
   "metadata": {},
   "outputs": [],
   "source": [
    "gui qt"
   ]
  },
  {
   "cell_type": "markdown",
   "metadata": {},
   "source": [
    "### Load Data, Render Data, and Save Images to Specified Folder"
   ]
  },
  {
   "cell_type": "code",
   "execution_count": 7,
   "metadata": {},
   "outputs": [
    {
     "ename": "IndentationError",
     "evalue": "unindent does not match any outer indentation level (<tokenize>, line 7)",
     "output_type": "error",
     "traceback": [
      "\u001b[0;36m  File \u001b[0;32m\"<tokenize>\"\u001b[0;36m, line \u001b[0;32m7\u001b[0m\n\u001b[0;31m    print(membrane.shape)\u001b[0m\n\u001b[0m    ^\u001b[0m\n\u001b[0;31mIndentationError\u001b[0m\u001b[0;31m:\u001b[0m unindent does not match any outer indentation level\n"
     ]
    }
   ],
   "source": [
    "data_location = '/archive/bioinformatics/Danuser_lab/Fiolka/MicroscopeDevelopment/OPM/Drosophila/GAP43-mcherry/200703/Cell1'\n",
    "save_location = '/archive/bioinformatics/Danuser_lab/Fiolka/MicroscopeDevelopment/OPM/Drosophila/GAP43-mcherry/200703/attenuated_MIP'\n",
    "\n",
    "with napari.gui_qt():\n",
    "\tviewer = napari.Viewer(ndisplay=3)\n",
    "\tmembrane = imread(os.path.join(data_location, f'1_CH00_{1:06}.tif'))\n",
    "\tlayer = viewer.add_image(data=membrane, rendering='attenuated_mip',\n",
    "\t\t\t\t\t\t\t contrast_limits=[84, 550], opacity = 1.0, attenuation=0.04)\n",
    "\n",
    "\tfor i in range(319):\n",
    "\t\tmembrane = imread(os.path.join(data_location, f'1_CH00_{i:06}.tif'))\n",
    "\t\tlayer.data = membrane\n",
    "\t\tnapari.viewer.Viewer.screenshot(viewer, os.path.join(save_location, f'1_CH00_{i:06}.tif'))\n"
   ]
  },
  {
   "cell_type": "code",
   "execution_count": 10,
   "metadata": {},
   "outputs": [
    {
     "name": "stdout",
     "output_type": "stream",
     "text": [
      "(152, 1024, 2048)\n"
     ]
    }
   ],
   "source": [
    "data_location = '/archive/bioinformatics/Danuser_lab/Fiolka/MicroscopeDevelopment/OPM/Drosophila/GAP43-mcherry/200703/Cell1'\n",
    "membrane = imread(os.path.join(data_location, f'1_CH00_{1:06}.tif'))\n",
    "print(membrane.shape)"
   ]
  },
  {
   "cell_type": "code",
   "execution_count": 13,
   "metadata": {},
   "outputs": [
    {
     "ename": "NameError",
     "evalue": "name 'viewer' is not defined",
     "output_type": "error",
     "traceback": [
      "\u001b[0;31m---------------------------------------------------------------------------\u001b[0m",
      "\u001b[0;31mNameError\u001b[0m                                 Traceback (most recent call last)",
      "\u001b[0;32m<ipython-input-13-e0cc994fcf80>\u001b[0m in \u001b[0;36m<module>\u001b[0;34m\u001b[0m\n\u001b[0;32m----> 1\u001b[0;31m \u001b[0mprint\u001b[0m\u001b[0;34m(\u001b[0m\u001b[0mviewer\u001b[0m\u001b[0;34m)\u001b[0m\u001b[0;34m\u001b[0m\u001b[0;34m\u001b[0m\u001b[0m\n\u001b[0m",
      "\u001b[0;31mNameError\u001b[0m: name 'viewer' is not defined"
     ]
    }
   ],
   "source": [
    "print(viewer)"
   ]
  },
  {
   "cell_type": "code",
   "execution_count": null,
   "metadata": {},
   "outputs": [],
   "source": []
  }
 ],
 "metadata": {
  "kernelspec": {
   "display_name": "Python 3",
   "language": "python",
   "name": "python3"
  },
  "language_info": {
   "codemirror_mode": {
    "name": "ipython",
    "version": 3
   },
   "file_extension": ".py",
   "mimetype": "text/x-python",
   "name": "python",
   "nbconvert_exporter": "python",
   "pygments_lexer": "ipython3",
   "version": "3.6.10"
  }
 },
 "nbformat": 4,
 "nbformat_minor": 4
}
