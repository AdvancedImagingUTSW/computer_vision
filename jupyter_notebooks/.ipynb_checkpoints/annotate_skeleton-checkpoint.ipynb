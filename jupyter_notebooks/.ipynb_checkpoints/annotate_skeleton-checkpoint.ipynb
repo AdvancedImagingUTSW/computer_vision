{
 "cells": [
  {
   "cell_type": "markdown",
   "id": "e5b873af-c4c5-409b-9527-7a80a2b4c8fa",
   "metadata": {},
   "source": [
    "# Manual Annotation\n",
    "\n",
    "Annotation to either provide ground truth data or improve segmentation results from another program. Goal is to paint labels to provide a pixel-wise annotation of an image with the **Labels** layer"
   ]
  },
  {
   "cell_type": "code",
   "execution_count": 11,
   "id": "d12ec7a7-9ecc-4485-abc7-656de19cc86a",
   "metadata": {},
   "outputs": [],
   "source": [
    "# Standard Library Imports\n",
    "import os\n",
    "\n",
    "# Third Party Imports\n",
    "import napari\n",
    "from napari.utils import nbscreenshot\n",
    "import numpy as np\n",
    "from tifffile import imread\n",
    "from skimage.morphology import dilation, ball\n",
    "\n",
    "# Local Imports\n",
    "\n",
    "if 'BINDER_SERVICE_HOST' in os.environ:\n",
    "    os.environ['DISPLAY'] = ':1.0'\n"
   ]
  },
  {
   "cell_type": "code",
   "execution_count": 2,
   "id": "ed6e9a53-2349-4310-8752-bbf596a6aeb7",
   "metadata": {},
   "outputs": [],
   "source": [
    "gui qt"
   ]
  },
  {
   "cell_type": "code",
   "execution_count": 3,
   "id": "8cde1131-bcc9-4ab5-8ff2-48012c66906b",
   "metadata": {},
   "outputs": [
    {
     "name": "stdout",
     "output_type": "stream",
     "text": [
      "['P_1_finaln_skeleton.mrc', 'P_1_particle.tif', 'P_1_inv_skeletonske.mrc', 'P_1_inv_skeletonske.tif', 'P_1_particle.mrc', 'P_1_finaln_skeleton.tif']\n"
     ]
    }
   ],
   "source": [
    "data_location = '/archive/MIL/marciano/20210921'\n",
    "print(os.listdir(data_location))"
   ]
  },
  {
   "cell_type": "code",
   "execution_count": 5,
   "id": "e0022846-7550-4d76-b7cd-1c4a33cf81a7",
   "metadata": {},
   "outputs": [
    {
     "name": "stdout",
     "output_type": "stream",
     "text": [
      "The Size of the image data is:  (601, 700, 700)\n",
      "The Size of the Skeleton data is:  (601, 700, 700)\n"
     ]
    }
   ],
   "source": [
    "image_name = 'P_1_particle.tif'\n",
    "image_data = imread(os.path.join(data_location, image_name))\n",
    "image_data = np.array(image_data)\n",
    "print(f'The Size of the image data is: ', image_data.shape)\n",
    "\n",
    "skeleton_name = 'P_1_finaln_skeleton.tif'\n",
    "skeleton_data = imread(os.path.join(data_location, skeleton_name))\n",
    "skeleton_data = np.array(skeleton_data)\n",
    "print(f'The Size of the Skeleton data is: ', skeleton_data.shape)\n",
    "\n"
   ]
  },
  {
   "cell_type": "code",
   "execution_count": 12,
   "id": "171e18b0-cd56-4aed-915e-a1cf6578bb63",
   "metadata": {},
   "outputs": [],
   "source": [
    "skeleton_data = skeleton_data>0.5\n",
    "skeleton_data = dilation(skeleton_data, ball(3))\n"
   ]
  },
  {
   "cell_type": "code",
   "execution_count": 15,
   "id": "a1718d4f-5eb7-4876-ae35-c0f0cf554704",
   "metadata": {},
   "outputs": [],
   "source": [
    "viewer = napari.view_image(image_data, name='Original_Data')\n",
    "labels_layer = viewer.add_labels(skeleton_data, name='Skeleton')"
   ]
  },
  {
   "cell_type": "code",
   "execution_count": null,
   "id": "41c6dbea-4c46-4663-814e-a7065174c634",
   "metadata": {},
   "outputs": [],
   "source": []
  }
 ],
 "metadata": {
  "kernelspec": {
   "display_name": "local-venv",
   "language": "python",
   "name": "local-venv"
  },
  "language_info": {
   "codemirror_mode": {
    "name": "ipython",
    "version": 3
   },
   "file_extension": ".py",
   "mimetype": "text/x-python",
   "name": "python",
   "nbconvert_exporter": "python",
   "pygments_lexer": "ipython3",
   "version": "3.8.5"
  }
 },
 "nbformat": 4,
 "nbformat_minor": 5
}
