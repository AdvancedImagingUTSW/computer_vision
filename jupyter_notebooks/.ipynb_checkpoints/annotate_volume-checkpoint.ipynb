{
 "cells": [
  {
   "cell_type": "markdown",
   "metadata": {},
   "source": [
    "# Manual Annotation\n",
    "\n",
    "Annotation to either provide ground truth data or improve segmentation results from another program. Goal is to paint labels to provide a pixel-wise annotation of an image with the **Labels** layer"
   ]
  },
  {
   "cell_type": "markdown",
   "metadata": {},
   "source": [
    "### Import Libraries"
   ]
  },
  {
   "cell_type": "code",
   "execution_count": 10,
   "metadata": {},
   "outputs": [],
   "source": [
    "# Standard Library Imports\n",
    "import os\n",
    "\n",
    "# Third Party Imports\n",
    "import napari\n",
    "from napari.utils import nbscreenshot\n",
    "import numpy as np\n",
    "from tifffile import imread\n",
    "from skimage.measure import label\n",
    "\n",
    "# Local Imports\n",
    "\n",
    "if 'BINDER_SERVICE_HOST' in os.environ:\n",
    "    os.environ['DISPLAY'] = ':1.0'\n"
   ]
  },
  {
   "cell_type": "markdown",
   "metadata": {},
   "source": [
    "### Load QT Graphical Interface"
   ]
  },
  {
   "cell_type": "code",
   "execution_count": 11,
   "metadata": {},
   "outputs": [],
   "source": [
    "gui qt"
   ]
  },
  {
   "cell_type": "markdown",
   "metadata": {},
   "source": [
    "### Load Data"
   ]
  },
  {
   "cell_type": "code",
   "execution_count": 12,
   "metadata": {},
   "outputs": [],
   "source": [
    "data_location = '/archive/MIL/marciano/20201211_CapillaryLooping/cropped/mutant'\n",
    "image_number = 0\n",
    "\n",
    "image_name = '1_CH00_' + str(image_number).zfill(6) + '.tif'\n",
    "imdata = imread(os.path.join(data_location, image_name))\n",
    "imdata = np.array(imdata)\n",
    "print('The Size of the image data is ' + str(imdata.shape))"
   ]
  },
  {
   "cell_type": "markdown",
   "metadata": {},
   "source": [
    "### Load Masks"
   ]
  },
  {
   "cell_type": "code",
   "execution_count": 26,
   "metadata": {},
   "outputs": [
    {
     "name": "stdout",
     "output_type": "stream",
     "text": [
      "(511, 866, 814)\n",
      "The Size of the image mask is (511, 866, 814)\n"
     ]
    }
   ],
   "source": [
    "image_mask = '1_CH00_' + str(image_number).zfill(6) + '_cp_masks.tif'\n",
    "im_mask = imread(os.path.join(data_location, image_mask))\n",
    "im_mask = np.array(im_mask)\n",
    "#im_mask = ~im_mask\n",
    "combined_labels = im_mask >= 1\n",
    "print('The Size of the image mask is ' + str(im_mask.shape))"
   ]
  },
  {
   "cell_type": "markdown",
   "metadata": {},
   "source": [
    "### Open in Napari"
   ]
  },
  {
   "cell_type": "code",
   "execution_count": 27,
   "metadata": {},
   "outputs": [],
   "source": [
    "lateral_pixel_size = 167\n",
    "axial_pixel_size = 200\n",
    "voxel_anisotropy = [axial_pixel_size, lateral_pixel_size, lateral_pixel_size]\n",
    "# label_image = label(im_mask)\n",
    "with napari.gui_qt():\n",
    "    viewer = napari.Viewer()\n",
    "    viewer.add_image(data=imdata[:,:,:], scale=voxel_anisotropy, name='data')\n",
    "    viewer.add_labels(combined_labels, scale=voxel_anisotropy, name='segmentation', opacity=0.5)\n",
    "    #viewer.add_points(name='nuclei', face_color='red', n_dimensional=True);"
   ]
  },
  {
   "cell_type": "markdown",
   "metadata": {},
   "source": [
    "### Export the Augmented Labels"
   ]
  },
  {
   "cell_type": "code",
   "execution_count": 22,
   "metadata": {},
   "outputs": [],
   "source": [
    "export_name = 'labels_' + image_name;\n",
    "export_path = os.path.join('~/Desktop/', export_name)\n",
    "viewer.layers['segmentation'].save(export_path, plugin='builtins');\n"
   ]
  },
  {
   "cell_type": "code",
   "execution_count": null,
   "metadata": {},
   "outputs": [],
   "source": [
    "# Save out the nuclei labels as a CSV file\n",
    "# Specific to the Nuclei Annotation\n",
    "export_name = 'labels_' + image_name;\n",
    "export_name = export_name[0:(len(export_name)-3)]+'csv';\n",
    "export_path = os.path.join(data_location, export_name)\n",
    "\n",
    "print('Number of Nuclei Annotated:', len(viewer.layers['nuclei'].data))\n",
    "viewer.layers['nuclei'].save(export_path, plugin='builtins');\n"
   ]
  }
 ],
 "metadata": {
  "kernelspec": {
   "display_name": "Python 3",
   "language": "python",
   "name": "python3"
  },
  "language_info": {
   "codemirror_mode": {
    "name": "ipython",
    "version": 3
   },
   "file_extension": ".py",
   "mimetype": "text/x-python",
   "name": "python",
   "nbconvert_exporter": "python",
   "pygments_lexer": "ipython3",
   "version": "3.8.5"
  }
 },
 "nbformat": 4,
 "nbformat_minor": 4
}
