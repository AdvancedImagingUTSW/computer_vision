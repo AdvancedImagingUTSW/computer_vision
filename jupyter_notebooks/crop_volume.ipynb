{
 "cells": [
  {
   "cell_type": "code",
   "execution_count": 1,
   "metadata": {},
   "outputs": [],
   "source": [
    "import os\n",
    "if 'BINDER_SERVICE_HOST' in os.environ:\n",
    "    os.environ['DISPLAY'] = ':1.0'\n",
    "    \n",
    "import napari\n",
    "import numpy as np\n",
    "from tifffile import imread"
   ]
  },
  {
   "cell_type": "code",
   "execution_count": 2,
   "metadata": {},
   "outputs": [],
   "source": [
    "gui qt"
   ]
  },
  {
   "cell_type": "code",
   "execution_count": 3,
   "metadata": {},
   "outputs": [
    {
     "name": "stdout",
     "output_type": "stream",
     "text": [
      "(801, 1600, 1600)\n"
     ]
    }
   ],
   "source": [
    "data_location = '/archive/MIL/marciano/20201211_CapillaryLooping/Mutant/Fluospheres/201210/Cell1/position 1'\n",
    "image_name = '1_CH00_000000.tif'\n",
    "\n",
    "# data_location = '/archive/MIL/morrison/bone_marrow_plug_2/LeprCreER_BABB/200706/Cell401'\n",
    "# image_name = '1_CH00_000000.tif'\n",
    "imdata = imread(os.path.join(data_location, image_name))\n",
    "imdata = np.array(imdata)\n",
    "\n",
    "voxel_anisotropy = [.167, .167, .200]\n",
    "print(imdata.shape)"
   ]
  },
  {
   "cell_type": "code",
   "execution_count": 4,
   "metadata": {},
   "outputs": [],
   "source": [
    "with napari.gui_qt():\n",
    "\tviewer = napari.Viewer(ndisplay=2)\n",
    "\tlayer = viewer.add_image(data=imdata, scale=voxel_anisotropy)"
   ]
  },
  {
   "cell_type": "code",
   "execution_count": null,
   "metadata": {},
   "outputs": [],
   "source": []
  }
 ],
 "metadata": {
  "kernelspec": {
   "display_name": "napari",
   "language": "python",
   "name": "napari-env"
  },
  "language_info": {
   "codemirror_mode": {
    "name": "ipython",
    "version": 3
   },
   "file_extension": ".py",
   "mimetype": "text/x-python",
   "name": "python",
   "nbconvert_exporter": "python",
   "pygments_lexer": "ipython3",
   "version": "3.8.5"
  }
 },
 "nbformat": 4,
 "nbformat_minor": 2
}
