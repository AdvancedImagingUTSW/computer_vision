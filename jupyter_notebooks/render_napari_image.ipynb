{
 "cells": [
  {
   "cell_type": "markdown",
   "metadata": {},
   "source": [
    "# Render Attenuated MIP Movie with napari\n",
    "The attenuated MIP feature is nice in napari, and this script loops through the data, renders it, and saves it to the specified directory."
   ]
  },
  {
   "cell_type": "markdown",
   "metadata": {},
   "source": [
    "### Import Modules"
   ]
  },
  {
   "cell_type": "code",
   "execution_count": 7,
   "metadata": {},
   "outputs": [],
   "source": [
    "import os\n",
    "if 'BINDER_SERVICE_HOST' in os.environ:\n",
    "    os.environ['DISPLAY'] = ':1.0'\n",
    "    \n",
    "import napari\n",
    "import numpy as np\n",
    "from tifffile import imread"
   ]
  },
  {
   "cell_type": "markdown",
   "metadata": {},
   "source": [
    "### Load napari qt GUI"
   ]
  },
  {
   "cell_type": "code",
   "execution_count": 8,
   "metadata": {},
   "outputs": [],
   "source": [
    "gui qt"
   ]
  },
  {
   "cell_type": "markdown",
   "metadata": {},
   "source": [
    "### Load Data, Render Data, and Save Images to Specified Folder"
   ]
  },
  {
   "cell_type": "code",
   "execution_count": 3,
   "metadata": {},
   "outputs": [
    {
     "name": "stdout",
     "output_type": "stream",
     "text": [
      "(349, 315, 477)\n"
     ]
    }
   ],
   "source": [
    "data_location = '/archive/MIL/ly/bld1/GFPsuntag-mChH2B/210211/Cell12_Cropped_HistMatched'\n",
    "image_name = '1_CH00_000001.tif'\n",
    "\n",
    "# data_location = '/archive/bioinformatics/Danuser_lab/Fiolka/MicroscopeDevelopment/OPM/Etai/mEF/new_optogenetics/non_coated_22035/200822/Shear_30_0_Cell4/CH00'\n",
    "# image_name = '1_CH00_000044.tif'\n",
    "\n",
    "# data_location = '/archive/MIL/morrison/bone_marrow_plug_2/LeprCreER_BABB/200706/Cell401'\n",
    "# image_name = '1_CH00_000000.tif'\n",
    "imdata = imread(os.path.join(data_location, image_name))\n",
    "imdata = np.array(imdata)\n",
    "\n",
    "voxel_anisotropy = [1, 1, 1]\n",
    "print(imdata.shape)\n"
   ]
  },
  {
   "cell_type": "code",
   "execution_count": 4,
   "metadata": {},
   "outputs": [],
   "source": [
    "with napari.gui_qt():\n",
    "\tviewer = napari.Viewer(ndisplay=2)\n",
    "\tlayer = viewer.add_image(data=imdata, scale=voxel_anisotropy)\n"
   ]
  },
  {
   "cell_type": "code",
   "execution_count": 18,
   "metadata": {},
   "outputs": [],
   "source": [
    "# Peter Ly's Data\n",
    "data_location = '/archive/MIL/ly/bld1/GFPsuntag-mChH2B/210211/Cell12_Cropped_HistMatched'\n",
    "save_location = '/archive/MIL/ly/bld1/GFPsuntag-mChH2B/210211/Cell12_Rendered'\n",
    "\n",
    "\n",
    "with napari.gui_qt():\n",
    "\tviewer = napari.Viewer(ndisplay=3)\n",
    "\tmembrane = imread(os.path.join(data_location, f'1_CH00_{1:06}.tif'))\n",
    "\tlayer = viewer.add_image(data=membrane, rendering='attenuated_mip', opacity = 1.0, attenuation=0.02, contrast_limits=[265, 2200])\n",
    "\n",
    "for i in range(219):\n",
    "    membrane = imread(os.path.join(data_location, f'1_CH00_{i:06}.tif'))\n",
    "    layer.data = membrane\n",
    "    napari.viewer.Viewer.screenshot(viewer, os.path.join(save_location, f'1_CH00_{i:06}.tif'))\n",
    "    \n",
    "\n",
    "        "
   ]
  },
  {
   "cell_type": "code",
   "execution_count": null,
   "metadata": {},
   "outputs": [],
   "source": []
  }
 ],
 "metadata": {
  "kernelspec": {
   "display_name": "Python 3",
   "language": "python",
   "name": "python3"
  },
  "language_info": {
   "codemirror_mode": {
    "name": "ipython",
    "version": 3
   },
   "file_extension": ".py",
   "mimetype": "text/x-python",
   "name": "python",
   "nbconvert_exporter": "python",
   "pygments_lexer": "ipython3",
   "version": "3.8.5"
  }
 },
 "nbformat": 4,
 "nbformat_minor": 4
}
